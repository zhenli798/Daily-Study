{
 "cells": [
  {
   "cell_type": "markdown",
   "id": "formal-talent",
   "metadata": {},
   "source": [
    "# 1. Pandas"
   ]
  },
  {
   "cell_type": "code",
   "execution_count": 1,
   "id": "strategic-surprise",
   "metadata": {},
   "outputs": [
    {
     "name": "stdout",
     "output_type": "stream",
     "text": [
      "0    1\n",
      "1    2\n",
      "2    3\n",
      "3    4\n",
      "dtype: int64\n",
      "a    1\n",
      "b    2\n",
      "c    3\n",
      "d    4\n",
      "dtype: int64\n"
     ]
    }
   ],
   "source": [
    "from pandas import Series, DataFrame\n",
    "x1 = Series([1, 2, 3, 4])\n",
    "x2 = Series(data = [1, 2, 3, 4], index = ['a', 'b', 'c', 'd'])\n",
    "print(x1)\n",
    "print(x2)"
   ]
  },
  {
   "cell_type": "code",
   "execution_count": 2,
   "id": "cheap-motivation",
   "metadata": {},
   "outputs": [
    {
     "name": "stdout",
     "output_type": "stream",
     "text": [
      "a    1\n",
      "b    2\n",
      "c    3\n",
      "d    4\n",
      "dtype: int64\n"
     ]
    }
   ],
   "source": [
    "# 用字典创建Series\n",
    "d = {'a' : 1, 'b' : 2, 'c' : 3, 'd' : 4}\n",
    "x3 = Series(d)\n",
    "print(x3)"
   ]
  },
  {
   "cell_type": "code",
   "execution_count": 4,
   "id": "technical-extent",
   "metadata": {},
   "outputs": [
    {
     "name": "stdout",
     "output_type": "stream",
     "text": [
      "   Chinese  English  Math\n",
      "0       66       65    30\n",
      "1       95       85    98\n",
      "2       93       92    96\n",
      "3       90       88    77\n",
      "4       80       90    90\n",
      "            English  Math  Chinese\n",
      "ZhangFei         65    30       66\n",
      "GuanYu           85    98       95\n",
      "ZhaoYun          92    96       93\n",
      "HuangZhong       88    77       90\n",
      "DianWei          90    90       80\n"
     ]
    }
   ],
   "source": [
    "# 创建DataFrame\n",
    "from pandas import Series, DataFrame\n",
    "data = {'Chinese' : [66, 95, 93, 90, 80], 'English' : [65, 85, 92, 88, 90], 'Math' : [30, 98, 96, 77, 90]}\n",
    "df1 = DataFrame(data)\n",
    "print(df1)\n",
    "df2 = DataFrame(data, index = ['ZhangFei', 'GuanYu', 'ZhaoYun', 'HuangZhong', 'DianWei'], columns = ['English', 'Math', 'Chinese'])\n",
    "print(df2)"
   ]
  },
  {
   "cell_type": "code",
   "execution_count": 5,
   "id": "controlled-chapel",
   "metadata": {},
   "outputs": [],
   "source": [
    "df2.to_excel('data.xlsx')"
   ]
  },
  {
   "cell_type": "code",
   "execution_count": 8,
   "id": "compliant-protection",
   "metadata": {},
   "outputs": [
    {
     "name": "stdout",
     "output_type": "stream",
     "text": [
      "   Unnamed: 0  English  Math  Chinese\n",
      "0    ZhangFei       65    30       66\n",
      "1      GuanYu       85    98       95\n",
      "2     ZhaoYun       92    96       93\n",
      "3  HuangZhong       88    77       90\n",
      "4     DianWei       90    90       80\n"
     ]
    }
   ],
   "source": [
    "import pandas as pd\n",
    "from pandas import Series, DataFrame\n",
    "df1 = DataFrame(pd.read_excel('data.xlsx')) # 导入数据\n",
    "df1.to_excel('data2.xlsx') # 导出数据\n",
    "print(df1)"
   ]
  },
  {
   "cell_type": "code",
   "execution_count": 14,
   "id": "numerical-oasis",
   "metadata": {},
   "outputs": [],
   "source": [
    "\n",
    "data = {'Chinese': [66, 95, 93, 90,80],'English': [65, 85, 92, 88, 90],'Math': [30, 98, 96, 77, 90]}\n",
    "df2 = DataFrame(data, index=['ZhangFei', 'GuanYu', 'ZhaoYun', 'HuangZhong', 'DianWei'], columns=['English', 'Math', 'Chinese'])"
   ]
  },
  {
   "cell_type": "code",
   "execution_count": 15,
   "id": "viral-milwaukee",
   "metadata": {},
   "outputs": [
    {
     "name": "stdout",
     "output_type": "stream",
     "text": [
      "            English  Math\n",
      "ZhangFei         65    30\n",
      "GuanYu           85    98\n",
      "ZhaoYun          92    96\n",
      "HuangZhong       88    77\n",
      "DianWei          90    90\n",
      "            English  Math\n",
      "GuanYu           85    98\n",
      "ZhaoYun          92    96\n",
      "HuangZhong       88    77\n",
      "DianWei          90    90\n"
     ]
    }
   ],
   "source": [
    "# 1. 删除DataFrame中不必要的列或行\n",
    "df2 = df2.drop(columns = ['Chinese']) # 删除Chinese列\n",
    "print(df2)\n",
    "df2 = df2.drop(index = ['ZhangFei']) # 删除张飞这一行\n",
    "print(df2)"
   ]
  },
  {
   "cell_type": "code",
   "execution_count": 18,
   "id": "decreased-prevention",
   "metadata": {},
   "outputs": [
    {
     "name": "stdout",
     "output_type": "stream",
     "text": [
      "            英语  数学\n",
      "GuanYu      85  98\n",
      "ZhaoYun     92  96\n",
      "HuangZhong  88  77\n",
      "DianWei     90  90\n"
     ]
    }
   ],
   "source": [
    "# 2. 重命名列名\n",
    "df2.rename(columns = {'Math' : '数学', 'English' : '英语'}, inplace = True)\n",
    "print(df2)"
   ]
  },
  {
   "cell_type": "code",
   "execution_count": 19,
   "id": "limited-column",
   "metadata": {},
   "outputs": [
    {
     "ename": "NameError",
     "evalue": "name 'df' is not defined",
     "output_type": "error",
     "traceback": [
      "\u001b[1;31m---------------------------------------------------------------------------\u001b[0m",
      "\u001b[1;31mNameError\u001b[0m                                 Traceback (most recent call last)",
      "\u001b[1;32m<ipython-input-19-2f8808865f67>\u001b[0m in \u001b[0;36m<module>\u001b[1;34m\u001b[0m\n\u001b[0;32m      1\u001b[0m \u001b[1;31m# 3. 去除重复值\u001b[0m\u001b[1;33m\u001b[0m\u001b[1;33m\u001b[0m\u001b[1;33m\u001b[0m\u001b[0m\n\u001b[1;32m----> 2\u001b[1;33m \u001b[0mdf\u001b[0m \u001b[1;33m=\u001b[0m \u001b[0mdf\u001b[0m\u001b[1;33m.\u001b[0m\u001b[0mdrop_duplicates\u001b[0m\u001b[1;33m(\u001b[0m\u001b[1;33m)\u001b[0m \u001b[1;31m# 去掉重复行\u001b[0m\u001b[1;33m\u001b[0m\u001b[1;33m\u001b[0m\u001b[0m\n\u001b[0m",
      "\u001b[1;31mNameError\u001b[0m: name 'df' is not defined"
     ]
    }
   ],
   "source": [
    "# 3. 去除重复值\n",
    "df = df.drop_duplicates() # 去掉重复行"
   ]
  },
  {
   "cell_type": "code",
   "execution_count": 25,
   "id": "local-landscape",
   "metadata": {},
   "outputs": [],
   "source": [
    "import numpy as np\n",
    "# 4. 更改数据格式\n",
    "df2['数学'] = df2['数学'].astype('str') # 把数学字段的值改成str类型\n",
    "df2['英语'] = df2['英语'].astype(np.int64) # 把英语字段的值改成int64"
   ]
  },
  {
   "cell_type": "code",
   "execution_count": 26,
   "id": "hydraulic-times",
   "metadata": {},
   "outputs": [],
   "source": [
    "\n",
    "# 删除左右两边空格\n",
    "df2['数学'] = df2['数学'].map(str.strip)\n",
    "# 删除左边空格\n",
    "df2['数学'] = df2['数学'].map(str.lstrip)\n",
    "# 删除右边空格\n",
    "df2['数学'] = df2['数学'].map(str.rstrip)"
   ]
  },
  {
   "cell_type": "code",
   "execution_count": 28,
   "id": "capable-motion",
   "metadata": {},
   "outputs": [],
   "source": [
    "# 删掉$符号\n",
    "df2['数学'] = df2['数学'].str.strip('$') "
   ]
  },
  {
   "cell_type": "code",
   "execution_count": 31,
   "id": "raised-domain",
   "metadata": {},
   "outputs": [
    {
     "name": "stdout",
     "output_type": "stream",
     "text": [
      "            英语  数学\n",
      "GuanYu      85  98\n",
      "ZhaoYun     92  96\n",
      "HuangZhong  88  77\n",
      "DianWei     90  90\n"
     ]
    }
   ],
   "source": [
    "# 大小写转换\n",
    "# 全部大写\n",
    "df2.columns = df2.columns.str.upper()\n",
    "# 全部小写\n",
    "df2.columns = df2.columns.str.lower()\n",
    "# 首字母大写\n",
    "df2.columns = df2.columns.str.title()\n",
    "print(df2)"
   ]
  },
  {
   "cell_type": "code",
   "execution_count": 50,
   "id": "minor-exploration",
   "metadata": {},
   "outputs": [
    {
     "name": "stdout",
     "output_type": "stream",
     "text": [
      "   姓名  语文  英语    数学\n",
      "0  张飞  66  65   NaN\n",
      "1  关羽  95  85  98.0\n",
      "2  赵云  95  92  96.0\n",
      "3  黄忠  90  88  77.0\n",
      "4  典韦  80  90  90.0\n",
      "      姓名     语文     英语     数学\n",
      "0  False  False  False   True\n",
      "1  False  False  False  False\n",
      "2  False  False  False  False\n",
      "3  False  False  False  False\n",
      "4  False  False  False  False\n",
      "姓名    False\n",
      "语文    False\n",
      "英语    False\n",
      "数学     True\n",
      "dtype: bool\n"
     ]
    }
   ],
   "source": [
    "from numpy import nan \n",
    "data = {'姓名' : ['张飞', '关羽', '赵云', '黄忠', '典韦'], '语文' : [66, 95, 95, 90, 80], '英语' : [65, 85, 92, 88, 90], '数学' : [nan, 98, 96, 77, 90]}\n",
    "df = DataFrame(data = data, columns = ['姓名', '语文', '英语', '数学'])\n",
    "print(df)\n",
    "print(df.isnull()) # 查看哪个地方存在空值\n",
    "print(df.isnull().any()) # 查看哪些列存在空值"
   ]
  },
  {
   "cell_type": "code",
   "execution_count": 51,
   "id": "seventh-furniture",
   "metadata": {},
   "outputs": [],
   "source": [
    "df['姓名'] = df['姓名'].apply(str.upper) # 对姓名列进行大小写转换"
   ]
  },
  {
   "cell_type": "code",
   "execution_count": 52,
   "id": "interior-shaft",
   "metadata": {},
   "outputs": [
    {
     "name": "stdout",
     "output_type": "stream",
     "text": [
      "   姓名   语文  英语    数学\n",
      "0  张飞  132  65   NaN\n",
      "1  关羽  190  85  98.0\n",
      "2  赵云  190  92  96.0\n",
      "3  黄忠  180  88  77.0\n",
      "4  典韦  160  90  90.0\n"
     ]
    }
   ],
   "source": [
    "def double_df(x):\n",
    "    return 2 * x\n",
    "df['语文'] = df['语文'].apply(double_df)\n",
    "print(df)"
   ]
  },
  {
   "cell_type": "code",
   "execution_count": 56,
   "id": "lightweight-garbage",
   "metadata": {},
   "outputs": [],
   "source": [
    "def plus(df, n, m):\n",
    "    df['new1'] = (df['语文'] + df['英语']) * m\n",
    "    df['new2'] = (df['语文'] + df['数学']) * n\n",
    "    return df\n",
    "df = df.apply(plus, axis = 1, args = (2, 3)) "
   ]
  },
  {
   "cell_type": "code",
   "execution_count": 57,
   "id": "precious-elimination",
   "metadata": {},
   "outputs": [
    {
     "name": "stdout",
     "output_type": "stream",
     "text": [
      "   姓名   语文  英语    数学  new1   new2\n",
      "0  张飞  132  65   NaN   591    NaN\n",
      "1  关羽  190  85  98.0   825  576.0\n",
      "2  赵云  190  92  96.0   846  572.0\n",
      "3  黄忠  180  88  77.0   804  514.0\n",
      "4  典韦  160  90  90.0   750  500.0\n"
     ]
    }
   ],
   "source": [
    "print(df)"
   ]
  },
  {
   "cell_type": "code",
   "execution_count": 58,
   "id": "smaller-myrtle",
   "metadata": {},
   "outputs": [
    {
     "name": "stdout",
     "output_type": "stream",
     "text": [
      "          data1\n",
      "count  5.000000\n",
      "mean   2.000000\n",
      "std    1.581139\n",
      "min    0.000000\n",
      "25%    1.000000\n",
      "50%    2.000000\n",
      "75%    3.000000\n",
      "max    4.000000\n"
     ]
    }
   ],
   "source": [
    "df1 = DataFrame({'name' : ['ZhangFei', 'GuanYu', 'a', 'b', 'c'], 'data1' : range(5)})\n",
    "print(df1.describe())"
   ]
  }
 ],
 "metadata": {
  "kernelspec": {
   "display_name": "Python 3",
   "language": "python",
   "name": "python3"
  },
  "language_info": {
   "codemirror_mode": {
    "name": "ipython",
    "version": 3
   },
   "file_extension": ".py",
   "mimetype": "text/x-python",
   "name": "python",
   "nbconvert_exporter": "python",
   "pygments_lexer": "ipython3",
   "version": "3.7.10"
  }
 },
 "nbformat": 4,
 "nbformat_minor": 5
}
