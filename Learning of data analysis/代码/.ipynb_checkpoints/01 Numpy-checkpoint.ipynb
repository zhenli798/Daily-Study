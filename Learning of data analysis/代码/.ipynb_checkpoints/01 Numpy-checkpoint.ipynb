{
 "cells": [
  {
   "cell_type": "markdown",
   "id": "banned-blade",
   "metadata": {},
   "source": [
    "# 1. 创建数组"
   ]
  },
  {
   "cell_type": "code",
   "execution_count": 3,
   "id": "laden-effects",
   "metadata": {},
   "outputs": [
    {
     "name": "stdout",
     "output_type": "stream",
     "text": [
      "[[1 2 3]\n",
      " [4 5 6]\n",
      " [7 8 9]]\n",
      "[[ 1  2  3]\n",
      " [ 4 10  6]\n",
      " [ 7  8  9]]\n",
      "(3,)\n",
      "(3, 3)\n",
      "int32\n"
     ]
    }
   ],
   "source": [
    "import numpy as np\n",
    "a = np.array([1, 2, 3])\n",
    "b = np.array([[1, 2, 3], [4, 5, 6], [7, 8, 9]])\n",
    "print(b)\n",
    "b[1, 1] = 10\n",
    "print(b)\n",
    "print(a.shape)\n",
    "print(b.shape)\n",
    "print(a.dtype) # 查看a矩阵中数据的类型"
   ]
  },
  {
   "cell_type": "markdown",
   "id": "warming-simpson",
   "metadata": {},
   "source": [
    "# 2. 结构数组\n"
   ]
  },
  {
   "cell_type": "code",
   "execution_count": 5,
   "id": "muslim-german",
   "metadata": {},
   "outputs": [
    {
     "name": "stdout",
     "output_type": "stream",
     "text": [
      "28.25\n",
      "77.5\n",
      "93.25\n",
      "93.75\n"
     ]
    }
   ],
   "source": [
    "import numpy as np\n",
    "persontype = np.dtype({\n",
    "    'names' : ['name', 'age', 'chinese', 'math', 'english'],\n",
    "    'formats' : ['S32', 'i', 'i', 'i', 'f']})\n",
    "peoples = np.array([(\"ZhangFei\", 32, 75, 100, 90), (\"GuanYu\", 24, 85, 96, 88.5), (\"ZhaoYun\", 28, 85, 92, 96.5), (\"HuangZhong\", 29, 65, 85, 100)], dtype = persontype)\n",
    "ages = peoples[:]['age']\n",
    "chineses = peoples[:]['chinese']\n",
    "maths = peoples[:]['math']\n",
    "englishs = peoples[:]['english']\n",
    "print(np.mean(ages)) # mean是求平均值\n",
    "print(np.mean(chineses))\n",
    "print(np.mean(maths))\n",
    "print(np.mean(englishs))"
   ]
  },
  {
   "cell_type": "markdown",
   "id": "driving-joshua",
   "metadata": {},
   "source": [
    "# 3. 连续数组的创建"
   ]
  },
  {
   "cell_type": "code",
   "execution_count": 9,
   "id": "novel-google",
   "metadata": {},
   "outputs": [
    {
     "name": "stdout",
     "output_type": "stream",
     "text": [
      "[1 3 5 7 9]\n",
      "[1. 3. 5. 7. 9.]\n",
      "int32\n",
      "float64\n"
     ]
    }
   ],
   "source": [
    "x1 = np.arange(1, 11, 2)\n",
    "x2 = np.linspace(1, 9, 5)\n",
    "print(x1)\n",
    "print(x2)\n",
    "print(x1.dtype)\n",
    "print(x2.dtype)"
   ]
  },
  {
   "cell_type": "markdown",
   "id": "metallic-cheat",
   "metadata": {},
   "source": [
    "# 4. 算数运算"
   ]
  },
  {
   "cell_type": "code",
   "execution_count": 10,
   "id": "vanilla-horizon",
   "metadata": {},
   "outputs": [
    {
     "name": "stdout",
     "output_type": "stream",
     "text": [
      "[ 2.  6. 10. 14. 18.]\n",
      "[0. 0. 0. 0. 0.]\n",
      "[ 1.  9. 25. 49. 81.]\n",
      "[1. 1. 1. 1. 1.]\n",
      "[1.00000000e+00 2.70000000e+01 3.12500000e+03 8.23543000e+05\n",
      " 3.87420489e+08]\n",
      "[0. 0. 0. 0. 0.]\n"
     ]
    }
   ],
   "source": [
    "x1 = np.arange(1, 11, 2)\n",
    "x2 = np.linspace(1, 9, 5)\n",
    "print(np.add(x1, x2))\n",
    "print(np.subtract(x1, x2))\n",
    "print(np.multiply(x1, x2))\n",
    "print(np.divide(x1, x2))\n",
    "print(np.power(x1, x2))\n",
    "print(np.remainder(x1, x2))"
   ]
  },
  {
   "cell_type": "markdown",
   "id": "nasty-rover",
   "metadata": {},
   "source": [
    "# 5. 统计函数"
   ]
  },
  {
   "cell_type": "code",
   "execution_count": 11,
   "id": "incomplete-angel",
   "metadata": {},
   "outputs": [
    {
     "name": "stdout",
     "output_type": "stream",
     "text": [
      "1\n",
      "[1 2 3]\n",
      "[1 4 7]\n",
      "9\n",
      "[7 8 9]\n",
      "[3 6 9]\n"
     ]
    }
   ],
   "source": [
    "import numpy as np\n",
    "a = np.array([[1, 2, 3], [4, 5, 6], [7, 8, 9]])\n",
    "print(np.amin(a))\n",
    "print(np.amin(a, 0)) # 0代表找每一列最小值\n",
    "print(np.amin(a, 1)) # 1代表找每一行最小值\n",
    "print(np.amax(a))\n",
    "print(np.amax(a, 0)) # 找每一列最大值\n",
    "print(np.amax(a, 1)) # 找每一行最大值"
   ]
  },
  {
   "cell_type": "code",
   "execution_count": 12,
   "id": "electronic-enforcement",
   "metadata": {},
   "outputs": [
    {
     "name": "stdout",
     "output_type": "stream",
     "text": [
      "8\n",
      "[6 6 6]\n",
      "[2 2 2]\n"
     ]
    }
   ],
   "source": [
    "a = np.array([[1, 2, 3], [4, 5, 6], [7, 8, 9]])\n",
    "print(np.ptp(a))\n",
    "print(np.ptp(a, 0)) # 找每一列最大值跟最小值之差\n",
    "print(np.ptp(a, 1)) # 找每一行最大值跟最小值之差"
   ]
  },
  {
   "cell_type": "code",
   "execution_count": 13,
   "id": "recent-cooperative",
   "metadata": {},
   "outputs": [
    {
     "name": "stdout",
     "output_type": "stream",
     "text": [
      "5.0\n",
      "[4. 5. 6.]\n",
      "[2. 5. 8.]\n"
     ]
    }
   ],
   "source": [
    "# 统计数组的百分位数\n",
    "a = np.array([[1, 2, 3], [4, 5, 6], [7, 8, 9]])\n",
    "print(np.percentile(a, 50)) # 第二个参数代表p，p的取值范围是0-100，如果p=0.那么是求最小值，p=50就是求平均值，p=100就是求最大值\n",
    "print(np.percentile(a, 50, axis = 0))\n",
    "print(np.percentile(a, 50, axis = 1))"
   ]
  },
  {
   "cell_type": "code",
   "execution_count": 15,
   "id": "million-contractor",
   "metadata": {},
   "outputs": [
    {
     "name": "stdout",
     "output_type": "stream",
     "text": [
      "5.0\n",
      "[4. 5. 6.]\n",
      "[2. 5. 8.]\n",
      "5.0\n",
      "[4. 5. 6.]\n",
      "[2. 5. 8.]\n"
     ]
    }
   ],
   "source": [
    "a = np.array([[1, 2, 3], [4, 5, 6], [7, 8, 9]])\n",
    "# 求中位数\n",
    "print(np.median(a))\n",
    "print(np.median(a, axis = 0))\n",
    "print(np.median(a, axis = 1))\n",
    "# 求平均数\n",
    "print(np.mean(a))\n",
    "print(np.mean(a, axis = 0))\n",
    "print(np.mean(a, axis = 1))"
   ]
  },
  {
   "cell_type": "code",
   "execution_count": 16,
   "id": "ruled-beatles",
   "metadata": {},
   "outputs": [
    {
     "name": "stdout",
     "output_type": "stream",
     "text": [
      "2.5\n",
      "3.0\n"
     ]
    }
   ],
   "source": [
    "# 统计数组中的加权平均值\n",
    "a = np.array([1, 2, 3, 4])\n",
    "wts = np.array([1, 2, 3, 4])\n",
    "print(np.average(a)) # （1 + 2 + 3 + 4)/4 = 2.5\n",
    "print(np.average(a, weights = wts)) # (1 * 1 + 2 * 2 + 3 * 3 + 4 * 4)/(1 + 2 + 3 + 4) = 3.0"
   ]
  },
  {
   "cell_type": "code",
   "execution_count": 17,
   "id": "functioning-victor",
   "metadata": {},
   "outputs": [
    {
     "name": "stdout",
     "output_type": "stream",
     "text": [
      "1.118033988749895\n",
      "1.25\n"
     ]
    }
   ],
   "source": [
    "a = np.array([1, 2, 3, 4])\n",
    "print(np.std(a)) # 求这组数据的标准差\n",
    "print(np.var(a)) # 求这组数据的方差"
   ]
  },
  {
   "cell_type": "code",
   "execution_count": 19,
   "id": "centered-settle",
   "metadata": {
    "scrolled": true
   },
   "outputs": [
    {
     "name": "stdout",
     "output_type": "stream",
     "text": [
      "[[2 3 4]\n",
      " [1 2 4]]\n",
      "[1 2 2 3 4 4]\n",
      "[[2 3 1]\n",
      " [4 4 2]]\n",
      "[[2 3 4]\n",
      " [1 2 4]]\n"
     ]
    }
   ],
   "source": [
    "# 排序\n",
    "a = np.array([[4,3,2],[2,4,1]])\n",
    "print(np.sort(a)) # 即按axis = -1也就是=1来排\n",
    "print(np.sort(a, axis=None)) # 当作一个向量来排\n",
    "print(np.sort(a, axis=0))  \n",
    "print(np.sort(a, axis=1))  "
   ]
  },
  {
   "cell_type": "markdown",
   "id": "eligible-astronomy",
   "metadata": {},
   "source": [
    "# 6. 练习题\n",
    "统计全班的成绩\n",
    "姓名 语文 数学 英语"
   ]
  },
  {
   "cell_type": "code",
   "execution_count": 45,
   "id": "center-cable",
   "metadata": {},
   "outputs": [
    {
     "name": "stdout",
     "output_type": "stream",
     "text": [
      "----------成绩统计----------\n",
      "科目 | 平均成绩 | 最小成绩 | 最大成绩 | 方差 | 标准差\n",
      "语文 | 84.800000 | 66 | 95 | 114.960000 | 10.721940\n",
      "英语 | 84.000000 | 65 | 92 | 95.600000 | 9.777525\n",
      "数学 | 78.200000 | 30 | 98 | 634.560000 | 25.190474\n",
      "未按总成绩排序前：[('张飞', 66, 65, 30, 161) ('关羽', 95, 85, 98, 278) ('赵云', 93, 92, 96, 281)\n",
      " ('黄忠', 90, 88, 77, 255) ('典韦', 80, 90, 90, 260)]\n",
      "按总成绩排序后：[('赵云', 93, 92, 96, 281) ('关羽', 95, 85, 98, 278) ('典韦', 80, 90, 90, 260)\n",
      " ('黄忠', 90, 88, 77, 255) ('张飞', 66, 65, 30, 161)]\n"
     ]
    }
   ],
   "source": [
    "import numpy as np\n",
    "def printScore(name, container):\n",
    "    print('%s | %f | %d | %d | %f | %f' %(name, np.mean(container), np.amin(container), np.amax(container), np.var(container), np.std(container)))\n",
    "    \n",
    "studenttype = np.dtype({'names' : ['name', 'chinese', 'english', 'math', 'total'], 'formats' : ['U32', 'i', 'i', 'i', 'i']}) # 中文类型不能用S32，S只支持ascii编码\n",
    "students = np.array([('张飞', 66, 65, 30, 0), ('关羽', 95, 85, 98, 0), ('赵云', 93, 92, 96, 0), ('黄忠', 90, 88, 77, 0), ('典韦', 80, 90, 90, 0)], dtype = studenttype)\n",
    "students['total'] = students['chinese'] + students['math'] + students['english']\n",
    "chinese = students['chinese']\n",
    "english = students['english']\n",
    "math = students['math']\n",
    "\n",
    "print('----------成绩统计----------')\n",
    "print('科目 | 平均成绩 | 最小成绩 | 最大成绩 | 方差 | 标准差')\n",
    "printScore('语文', chinese)\n",
    "printScore('英语', english)\n",
    "printScore('数学', math)\n",
    "print('未按总成绩排序前：%s' %students)\n",
    "print('按总成绩排序后：%s' %np.sort(students, order = 'total')[::-1]) # 按总分先从小到大排序后再反转数组\n"
   ]
  }
 ],
 "metadata": {
  "kernelspec": {
   "display_name": "Python 3",
   "language": "python",
   "name": "python3"
  },
  "language_info": {
   "codemirror_mode": {
    "name": "ipython",
    "version": 3
   },
   "file_extension": ".py",
   "mimetype": "text/x-python",
   "name": "python",
   "nbconvert_exporter": "python",
   "pygments_lexer": "ipython3",
   "version": "3.7.10"
  }
 },
 "nbformat": 4,
 "nbformat_minor": 5
}
