{
 "cells": [
  {
   "cell_type": "markdown",
   "id": "funny-invalid",
   "metadata": {},
   "source": [
    "# 1. 4\\*4随机数组测试"
   ]
  },
  {
   "cell_type": "code",
   "execution_count": 2,
   "id": "informed-stocks",
   "metadata": {},
   "outputs": [
    {
     "data": {
      "text/plain": [
       "array([[0.45049531, 0.97964751, 0.93192805, 0.6276839 ],\n",
       "       [0.10106935, 0.67307688, 0.37955861, 0.76056186],\n",
       "       [0.71927667, 0.74203284, 0.54339619, 0.98327751],\n",
       "       [0.00954826, 0.16407505, 0.18795485, 0.10861836]])"
      ]
     },
     "execution_count": 2,
     "metadata": {},
     "output_type": "execute_result"
    }
   ],
   "source": [
    "from numpy import *\n",
    "random.rand(4,4)"
   ]
  },
  {
   "cell_type": "markdown",
   "id": "accurate-sender",
   "metadata": {},
   "source": [
    "# 2. 调用mat()函数将数组转化为矩阵"
   ]
  },
  {
   "cell_type": "code",
   "execution_count": 9,
   "id": "adequate-singer",
   "metadata": {},
   "outputs": [
    {
     "data": {
      "text/plain": [
       "matrix([[0.54440189, 0.79972448, 0.54552244, 0.84399957],\n",
       "        [0.14241114, 0.83511752, 0.83795975, 0.16906282],\n",
       "        [0.22766547, 0.04554466, 0.46618854, 0.78364551],\n",
       "        [0.55936265, 0.43912616, 0.62100739, 0.67173396]])"
      ]
     },
     "execution_count": 9,
     "metadata": {},
     "output_type": "execute_result"
    }
   ],
   "source": [
    "randMat = mat(random.rand(4,4))\n",
    "randMat"
   ]
  },
  {
   "cell_type": "markdown",
   "id": "still-stevens",
   "metadata": {},
   "source": [
    "# 3. 使用.I操作符实现矩阵求逆的运算"
   ]
  },
  {
   "cell_type": "code",
   "execution_count": 10,
   "id": "greatest-implement",
   "metadata": {},
   "outputs": [
    {
     "data": {
      "text/plain": [
       "matrix([[-0.79610824, -1.05498085, -2.06080201,  3.66992204],\n",
       "        [ 1.75741924,  0.35745863, -0.653839  , -1.53530432],\n",
       "        [-1.86620464,  1.08954872,  0.69994836,  1.25401186],\n",
       "        [ 1.23934677, -0.36245056,  1.49639653, -1.72296729]])"
      ]
     },
     "execution_count": 10,
     "metadata": {},
     "output_type": "execute_result"
    }
   ],
   "source": [
    "invRandMat = randMat.I\n",
    "invRandMat"
   ]
  },
  {
   "cell_type": "markdown",
   "id": "frank-organic",
   "metadata": {},
   "source": [
    "# 4. 矩阵乘法"
   ]
  },
  {
   "cell_type": "code",
   "execution_count": 13,
   "id": "lesbian-processing",
   "metadata": {},
   "outputs": [
    {
     "data": {
      "text/plain": [
       "matrix([[ 1.00000000e+00, -1.35308431e-16, -1.11022302e-16,\n",
       "          4.44089210e-16],\n",
       "        [ 0.00000000e+00,  1.00000000e+00,  0.00000000e+00,\n",
       "          2.22044605e-16],\n",
       "        [-2.22044605e-16,  5.55111512e-17,  1.00000000e+00,\n",
       "          4.44089210e-16],\n",
       "        [ 2.22044605e-16,  2.77555756e-17,  0.00000000e+00,\n",
       "          1.00000000e+00]])"
      ]
     },
     "execution_count": 13,
     "metadata": {},
     "output_type": "execute_result"
    }
   ],
   "source": [
    "randMat * invRandMat"
   ]
  },
  {
   "cell_type": "markdown",
   "id": "biological-notion",
   "metadata": {},
   "source": [
    "# 5. 使用eye(4)创建4x4的单位矩阵"
   ]
  },
  {
   "cell_type": "code",
   "execution_count": 15,
   "id": "complimentary-awareness",
   "metadata": {},
   "outputs": [
    {
     "data": {
      "text/plain": [
       "matrix([[ 2.22044605e-16, -1.35308431e-16, -1.11022302e-16,\n",
       "          4.44089210e-16],\n",
       "        [ 0.00000000e+00,  0.00000000e+00,  0.00000000e+00,\n",
       "          2.22044605e-16],\n",
       "        [-2.22044605e-16,  5.55111512e-17, -2.22044605e-16,\n",
       "          4.44089210e-16],\n",
       "        [ 2.22044605e-16,  2.77555756e-17,  0.00000000e+00,\n",
       "          2.22044605e-16]])"
      ]
     },
     "execution_count": 15,
     "metadata": {},
     "output_type": "execute_result"
    }
   ],
   "source": [
    "myEye= randMat * invRandMat\n",
    "myEye - eye(4)"
   ]
  },
  {
   "cell_type": "code",
   "execution_count": 16,
   "id": "attached-perception",
   "metadata": {},
   "outputs": [
    {
     "data": {
      "text/plain": [
       "array([[1., 0., 0., 0.],\n",
       "       [0., 1., 0., 0.],\n",
       "       [0., 0., 1., 0.],\n",
       "       [0., 0., 0., 1.]])"
      ]
     },
     "execution_count": 16,
     "metadata": {},
     "output_type": "execute_result"
    }
   ],
   "source": [
    "eye(4)"
   ]
  },
  {
   "cell_type": "code",
   "execution_count": null,
   "id": "formal-dodge",
   "metadata": {},
   "outputs": [],
   "source": []
  }
 ],
 "metadata": {
  "kernelspec": {
   "display_name": "Python 3",
   "language": "python",
   "name": "python3"
  },
  "language_info": {
   "codemirror_mode": {
    "name": "ipython",
    "version": 3
   },
   "file_extension": ".py",
   "mimetype": "text/x-python",
   "name": "python",
   "nbconvert_exporter": "python",
   "pygments_lexer": "ipython3",
   "version": "3.7.10"
  }
 },
 "nbformat": 4,
 "nbformat_minor": 5
}
