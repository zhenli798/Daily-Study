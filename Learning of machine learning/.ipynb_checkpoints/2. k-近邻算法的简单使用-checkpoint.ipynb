{
 "cells": [
  {
   "cell_type": "markdown",
   "id": "collective-thriller",
   "metadata": {},
   "source": [
    "# 1. 造数据"
   ]
  },
  {
   "cell_type": "code",
   "execution_count": 1,
   "id": "greater-thanksgiving",
   "metadata": {},
   "outputs": [],
   "source": [
    "from numpy import *\n",
    "import operator\n",
    "def createDataSet():\n",
    "    group = array([[1.0, 1.1],[1.0,1.0],[0,0],[0,0.1]])\n",
    "    labels = ['A', 'A', 'B', 'B']\n",
    "    return group,labels"
   ]
  },
  {
   "cell_type": "code",
   "execution_count": 2,
   "id": "geological-bunny",
   "metadata": {},
   "outputs": [],
   "source": [
    "group,labels = createDataSet()"
   ]
  },
  {
   "cell_type": "code",
   "execution_count": 3,
   "id": "encouraging-funeral",
   "metadata": {},
   "outputs": [
    {
     "data": {
      "text/plain": [
       "array([[1. , 1.1],\n",
       "       [1. , 1. ],\n",
       "       [0. , 0. ],\n",
       "       [0. , 0.1]])"
      ]
     },
     "execution_count": 3,
     "metadata": {},
     "output_type": "execute_result"
    }
   ],
   "source": [
    "group"
   ]
  },
  {
   "cell_type": "code",
   "execution_count": 4,
   "id": "medium-department",
   "metadata": {},
   "outputs": [
    {
     "data": {
      "text/plain": [
       "['A', 'A', 'B', 'B']"
      ]
     },
     "execution_count": 4,
     "metadata": {},
     "output_type": "execute_result"
    }
   ],
   "source": [
    "labels"
   ]
  },
  {
   "cell_type": "markdown",
   "id": "juvenile-management",
   "metadata": {},
   "source": [
    "# 2. k-近邻算法"
   ]
  },
  {
   "cell_type": "code",
   "execution_count": 19,
   "id": "patient-meter",
   "metadata": {},
   "outputs": [],
   "source": [
    "def classify0(inX, dataSet, labels, k):\n",
    "    dataSetSize = dataSet.shape[0] # shape[0]为行数，shape[1]为列数\n",
    "    diffMat = tile(inX, (dataSetSize, 1)) - dataSet #tile作用:其行重复dataSetSize次而列不重复\n",
    "    print('diffMat',diffMat)\n",
    "    sqDiffMat = diffMat**2 #求差的平方\n",
    "    print('sqDiffMat',sqDiffMat)\n",
    "    sqDistances = sqDiffMat.sum(axis=1) # axis = 1每一行相加，axis = 0每一列相加\n",
    "    print('sqDistances',sqDistances)\n",
    "    distances = sqDistances**0.5\n",
    "    sortedDistIndicies = distances.argsort() #将元素从小到大排列，并输出下标的index \n",
    "    print('sortedDistIndicies',sortedDistIndicies)\n",
    "    classCount = {}\n",
    "    for i in range(k):\n",
    "        voteIlabel = labels[sortedDistIndicies[i]] # 取前k个标签\n",
    "        classCount[voteIlabel] = classCount.get(voteIlabel, 0) + 1# 统计标签出现数量\n",
    "    sortedClassCount = sorted(classCount.items(), key = operator.itemgetter(1), reverse=True)# reverse = True 降序 ， reverse = False 升序（默认）\n",
    "    # 字典(Dictionary) items() 函数以列表返回可遍历的(键, 值) 元组数组。\n",
    "    print(sortedClassCount)\n",
    "    return sortedClassCount[0][0]"
   ]
  },
  {
   "cell_type": "markdown",
   "id": "registered-condition",
   "metadata": {},
   "source": [
    "# 3. 测试k-近邻算法"
   ]
  },
  {
   "cell_type": "code",
   "execution_count": 20,
   "id": "universal-electricity",
   "metadata": {},
   "outputs": [
    {
     "name": "stdout",
     "output_type": "stream",
     "text": [
      "diffMat [[-1.  -1.1]\n",
      " [-1.  -1. ]\n",
      " [ 0.   0. ]\n",
      " [ 0.  -0.1]]\n",
      "sqDiffMat [[1.   1.21]\n",
      " [1.   1.  ]\n",
      " [0.   0.  ]\n",
      " [0.   0.01]]\n",
      "sqDistances [2.21 2.   0.   0.01]\n",
      "sortedDistIndicies [2 3 1 0]\n",
      "[('B', 2), ('A', 1)]\n"
     ]
    },
    {
     "data": {
      "text/plain": [
       "'B'"
      ]
     },
     "execution_count": 20,
     "metadata": {},
     "output_type": "execute_result"
    }
   ],
   "source": [
    "classify0([0,0], group, labels, 3)"
   ]
  },
  {
   "cell_type": "code",
   "execution_count": null,
   "id": "regulation-economy",
   "metadata": {},
   "outputs": [],
   "source": []
  }
 ],
 "metadata": {
  "kernelspec": {
   "display_name": "Python 3",
   "language": "python",
   "name": "python3"
  },
  "language_info": {
   "codemirror_mode": {
    "name": "ipython",
    "version": 3
   },
   "file_extension": ".py",
   "mimetype": "text/x-python",
   "name": "python",
   "nbconvert_exporter": "python",
   "pygments_lexer": "ipython3",
   "version": "3.7.10"
  }
 },
 "nbformat": 4,
 "nbformat_minor": 5
}
