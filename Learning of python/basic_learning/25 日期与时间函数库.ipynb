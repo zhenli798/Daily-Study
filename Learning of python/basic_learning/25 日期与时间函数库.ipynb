{
 "cells": [
  {
   "cell_type": "code",
   "execution_count": 1,
   "id": "737e05f8",
   "metadata": {},
   "outputs": [
    {
     "name": "stdout",
     "output_type": "stream",
     "text": [
      "1651754315.0830061\n",
      "time.struct_time(tm_year=2022, tm_mon=5, tm_mday=5, tm_hour=20, tm_min=38, tm_sec=35, tm_wday=3, tm_yday=125, tm_isdst=0)\n",
      "20220505\n"
     ]
    }
   ],
   "source": [
    "import time\n",
    "print(time.time()) # 查19700101到现在过了多少秒\n",
    "print(time.localtime())\n",
    "print(time.strftime('%Y%m%d'))"
   ]
  },
  {
   "cell_type": "code",
   "execution_count": 4,
   "id": "87a29f56",
   "metadata": {},
   "outputs": [
    {
     "name": "stdout",
     "output_type": "stream",
     "text": [
      "2022-05-05 20:51:09.902584\n",
      "2022-05-05 21:01:09.903573\n",
      "2008-06-06 00:00:00\n"
     ]
    }
   ],
   "source": [
    "import datetime\n",
    "print(datetime.datetime.now())\n",
    "newtime = datetime.timedelta(minutes = 10) # 计算十分钟偏移量\n",
    "print(datetime.datetime.now() + newtime) # 显示十分钟后的时间\n",
    "\n",
    "one_day = datetime.datetime(2008,5,27)\n",
    "new_date = datetime.timedelta(days = 10)\n",
    "print(one_day + new_date)\n"
   ]
  }
 ],
 "metadata": {
  "kernelspec": {
   "display_name": "Python 3 (ipykernel)",
   "language": "python",
   "name": "python3"
  },
  "language_info": {
   "codemirror_mode": {
    "name": "ipython",
    "version": 3
   },
   "file_extension": ".py",
   "mimetype": "text/x-python",
   "name": "python",
   "nbconvert_exporter": "python",
   "pygments_lexer": "ipython3",
   "version": "3.9.7"
  }
 },
 "nbformat": 4,
 "nbformat_minor": 5
}
