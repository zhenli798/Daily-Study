{
 "cells": [
  {
   "cell_type": "code",
   "execution_count": 9,
   "id": "suspected-november",
   "metadata": {},
   "outputs": [
    {
     "name": "stdout",
     "output_type": "stream",
     "text": [
      "5 62 3\n",
      "1 2\n",
      "4 5\n",
      "3 4\n",
      "\n"
     ]
    }
   ],
   "source": [
    "import threading\n",
    "import time\n",
    "from threading import current_thread\n",
    "def myThread(arg1, arg2):\n",
    "    # print(current_thread().getName(),'start')\n",
    "    time.sleep(1)\n",
    "    print('%s %s' %(arg1, arg2))\n",
    "    # print(current_thread().getName(),'stop')\n",
    "for i in range(1, 6, 1):\n",
    "    t1 = threading.Thread(target=myThread,args=(i, i + 1))\n",
    "    t1.start()"
   ]
  },
  {
   "cell_type": "code",
   "execution_count": 14,
   "id": "imposed-creature",
   "metadata": {},
   "outputs": [
    {
     "name": "stdout",
     "output_type": "stream",
     "text": [
      "Thread-48 start\n",
      "run\n",
      "Thread-48 stop\n",
      "MainThread end\n"
     ]
    }
   ],
   "source": [
    "# 为达到同步的目的，我们可以使用多态的方式去重写run\n",
    "import threading\n",
    "from threading import current_thread\n",
    "class Mythread(threading.Thread):\n",
    "    def run(self):\n",
    "        print(current_thread().getName(), 'start')\n",
    "        print('run')\n",
    "        print(current_thread().getName(), 'stop')\n",
    "t1 = Mythread()\n",
    "t1.start() # 线程使用start启动的时候实际上是调用了run方法\n",
    "t1.join() # 等待t1线程结束才会向下执行\n",
    "\n",
    "print(current_thread().getName(), 'end')\n"
   ]
  }
 ],
 "metadata": {
  "kernelspec": {
   "display_name": "Python 3",
   "language": "python",
   "name": "python3"
  },
  "language_info": {
   "codemirror_mode": {
    "name": "ipython",
    "version": 3
   },
   "file_extension": ".py",
   "mimetype": "text/x-python",
   "name": "python",
   "nbconvert_exporter": "python",
   "pygments_lexer": "ipython3",
   "version": "3.7.10"
  }
 },
 "nbformat": 4,
 "nbformat_minor": 5
}
