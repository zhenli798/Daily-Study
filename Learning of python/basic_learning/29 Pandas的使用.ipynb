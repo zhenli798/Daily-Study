{
 "cells": [
  {
   "cell_type": "code",
   "execution_count": 1,
   "id": "junior-jacket",
   "metadata": {},
   "outputs": [
    {
     "name": "stdout",
     "output_type": "stream",
     "text": [
      "0    4\n",
      "1    5\n",
      "2    6\n",
      "3   -7\n",
      "dtype: int64\n",
      "RangeIndex(start=0, stop=4, step=1)\n",
      "[ 4  5  6 -7]\n"
     ]
    }
   ],
   "source": [
    "import pandas as pd\n",
    "obj = pd.Series([4, 5, 6, -7])\n",
    "print(obj)\n",
    "\n",
    "print(obj.index) # 打印索引\n",
    "print(obj.values) # 打印值"
   ]
  },
  {
   "cell_type": "code",
   "execution_count": 2,
   "id": "absent-parking",
   "metadata": {},
   "outputs": [
    {
     "name": "stdout",
     "output_type": "stream",
     "text": [
      "d    4\n",
      "c    5\n",
      "b    6\n",
      "a    3\n",
      "dtype: int64\n",
      "d    4\n",
      "c    6\n",
      "b    6\n",
      "a    3\n",
      "dtype: int64\n",
      "True\n",
      "False\n",
      "beijing      35000\n",
      "shanghai     70000\n",
      "guangzhou    16000\n",
      "shenzhen      5000\n",
      "dtype: int64\n",
      "bj    35000\n",
      "sh    70000\n",
      "gz    16000\n",
      "sz     5000\n",
      "dtype: int64\n"
     ]
    }
   ],
   "source": [
    "obj2 = pd.Series([4, 5, 6, 3], index = {'a', 'b', 'd', 'c'})\n",
    "print(obj2)\n",
    "obj2['c'] = 6\n",
    "print(obj2)\n",
    "print('c' in obj2) # 判断是否存在键'c'\n",
    "print('f' in obj2)\n",
    "\n",
    "# 将字典转化到我们的series中\n",
    "sdata = {'beijing' : 35000, 'shanghai' : 70000, 'guangzhou' : 16000, 'shenzhen' : 5000}\n",
    "obj3 = pd.Series(sdata)\n",
    "print(obj3)\n",
    "obj3.index = ['bj', 'sh', 'gz', 'sz'] # 修改索引为它们的缩写\n",
    "print(obj3)"
   ]
  },
  {
   "cell_type": "code",
   "execution_count": 5,
   "id": "confused-refrigerator",
   "metadata": {},
   "outputs": [
    {
     "name": "stdout",
     "output_type": "stream",
     "text": [
      "        city  year  pop\n",
      "0   shanghai  2016  1.5\n",
      "1  guangzhou  2017  1.8\n",
      "2    beijing  2018  1.3\n",
      "3   shenzhen  2019  2.0\n"
     ]
    }
   ],
   "source": [
    "data = {'city' : ['shanghai', 'guangzhou', 'beijing', 'shenzhen'],\n",
    "        'year' : [2016, 2017, 2018, 2019],\n",
    "        'pop' : [1.5, 1.8, 1.3, 2.0]}\n",
    "frame = pd.DataFrame(data)\n",
    "print(frame)"
   ]
  },
  {
   "cell_type": "code",
   "execution_count": 7,
   "id": "hairy-memphis",
   "metadata": {},
   "outputs": [
    {
     "name": "stdout",
     "output_type": "stream",
     "text": [
      "   year       city  pop\n",
      "0  2016   shanghai  1.5\n",
      "1  2017  guangzhou  1.8\n",
      "2  2018    beijing  1.3\n",
      "3  2019   shenzhen  2.0\n",
      "0     shanghai\n",
      "1    guangzhou\n",
      "2      beijing\n",
      "3     shenzhen\n",
      "Name: city, dtype: object\n",
      "0    2016\n",
      "1    2017\n",
      "2    2018\n",
      "3    2019\n",
      "Name: year, dtype: int64\n"
     ]
    }
   ],
   "source": [
    "frame2 = pd.DataFrame(data, columns = ['year', 'city', 'pop'])\n",
    "print(frame2)\n",
    "\n",
    "# 将二维表格转换为一维的数据\n",
    "print(frame2['city'])\n",
    "print(frame2.year)"
   ]
  },
  {
   "cell_type": "code",
   "execution_count": 8,
   "id": "collective-chapel",
   "metadata": {},
   "outputs": [
    {
     "name": "stdout",
     "output_type": "stream",
     "text": [
      "   year       city  pop    cap\n",
      "0  2016   shanghai  1.5  False\n",
      "1  2017  guangzhou  1.8  False\n",
      "2  2018    beijing  1.3   True\n",
      "3  2019   shenzhen  2.0  False\n"
     ]
    }
   ],
   "source": [
    "# 为pandas增加一个新的列\n",
    "frame2['cap'] = frame2.city == 'beijing'\n",
    "print(frame2)"
   ]
  },
  {
   "cell_type": "code",
   "execution_count": 11,
   "id": "structural-reconstruction",
   "metadata": {},
   "outputs": [
    {
     "name": "stdout",
     "output_type": "stream",
     "text": [
      "      beijing  shanghai\n",
      "2008      1.5       2.0\n",
      "2009      2.0       3.6\n",
      "          2008  2009\n",
      "beijing    1.5   2.0\n",
      "shanghai   2.0   3.6\n"
     ]
    }
   ],
   "source": [
    "pop = { 'beijing' : {2008:1.5, 2009:2.0},\n",
    "        'shanghai' : {2008:2.0, 2009:3.6}\n",
    "       }\n",
    "frame3 = pd.DataFrame(pop)\n",
    "print(frame3)\n",
    "# 行和列的转换\n",
    "print(frame3.T)"
   ]
  },
  {
   "cell_type": "code",
   "execution_count": 14,
   "id": "liberal-automation",
   "metadata": {},
   "outputs": [
    {
     "name": "stdout",
     "output_type": "stream",
     "text": [
      "a    3.6\n",
      "b    4.5\n",
      "c   -5.3\n",
      "d    7.2\n",
      "e    NaN\n",
      "dtype: float64\n"
     ]
    }
   ],
   "source": [
    "obj4 = pd.Series([4.5, 7.2, -5.3, 3.6], index = ['b', 'd', 'c', 'a'])\n",
    "obj5 = obj4.reindex(['a', 'b', 'c', 'd', 'e']) # 按索引顺序排序，不存在的索引将出现空值\n",
    "print(obj5)"
   ]
  },
  {
   "cell_type": "code",
   "execution_count": 16,
   "id": "nervous-jumping",
   "metadata": {},
   "outputs": [
    {
     "name": "stdout",
     "output_type": "stream",
     "text": [
      "a    3.6\n",
      "b    4.5\n",
      "c   -5.3\n",
      "d    7.2\n",
      "e    0.0\n",
      "dtype: float64\n"
     ]
    }
   ],
   "source": [
    "obj6 = obj4.reindex(['a', 'b', 'c', 'd', 'e'], fill_value = 0) # 给空值填充0\n",
    "print(obj6)"
   ]
  },
  {
   "cell_type": "code",
   "execution_count": 19,
   "id": "micro-marine",
   "metadata": {},
   "outputs": [
    {
     "name": "stdout",
     "output_type": "stream",
     "text": [
      "0      blue\n",
      "1       NaN\n",
      "2    yellow\n",
      "3       NaN\n",
      "4      pink\n",
      "5       NaN\n",
      "dtype: object\n",
      "0      blue\n",
      "1      blue\n",
      "2    yellow\n",
      "3    yellow\n",
      "4      pink\n",
      "5      pink\n",
      "dtype: object\n"
     ]
    }
   ],
   "source": [
    "obj7 = pd.Series(['blue', 'yellow', 'pink'], index = [0, 2, 4])\n",
    "print(obj7.reindex(range(6)))\n",
    "print(obj7.reindex(range(6), method = 'ffill')) # 空值填充为其前一个数值"
   ]
  },
  {
   "cell_type": "code",
   "execution_count": 25,
   "id": "impossible-timing",
   "metadata": {},
   "outputs": [
    {
     "name": "stdout",
     "output_type": "stream",
     "text": [
      "0    1.0\n",
      "2    2.0\n",
      "dtype: float64\n"
     ]
    }
   ],
   "source": [
    "from numpy import nan as NA\n",
    "# 删除缺失值的一行数据\n",
    "data = pd.Series([1, NA, 2])\n",
    "print(data.dropna())"
   ]
  },
  {
   "cell_type": "code",
   "execution_count": 31,
   "id": "ruled-matrix",
   "metadata": {
    "scrolled": true
   },
   "outputs": [
    {
     "name": "stdout",
     "output_type": "stream",
     "text": [
      "     0    1    2   4\n",
      "0  1.0  6.5  3.0 NaN\n",
      "1  1.0  NaN  NaN NaN\n",
      "2  NaN  NaN  NaN NaN\n",
      "Empty DataFrame\n",
      "Columns: [0, 1, 2, 4]\n",
      "Index: []\n",
      "     0    1    2   4\n",
      "0  1.0  6.5  3.0 NaN\n",
      "1  1.0  NaN  NaN NaN\n",
      "     0    1    2\n",
      "0  1.0  6.5  3.0\n",
      "1  1.0  NaN  NaN\n",
      "2  NaN  NaN  NaN\n",
      "     0    1    2    4\n",
      "0  1.0  6.5  3.0  0.0\n",
      "1  1.0  0.0  0.0  0.0\n",
      "2  0.0  0.0  0.0  0.0\n"
     ]
    }
   ],
   "source": [
    "# 在DataFrame删除缺失值的情况\n",
    "# 1. 某一列的某一行有缺失\n",
    "data = pd.DataFrame([[1.,  6.5, 3], [1., NA, NA], [NA, NA, NA]])\n",
    "data[4] = NA\n",
    "print(data)\n",
    "print(data.dropna()) # 发现只要出现了na的一行就会被全部删掉\n",
    "print(data.dropna(how = 'all')) # 只删掉全部出现na的一行\n",
    "print(data.dropna(axis = 1, how = 'all')) # 删掉全部出现na的一列\n",
    "data.fillna(0) # 这种方法是对data副本进行填充0，并返回，并不会直接修改data\n",
    "data.fillna(0, inplace = True) # 使用了inplace参数则代表是对data进行填充修改\n",
    "print(data)"
   ]
  },
  {
   "cell_type": "code",
   "execution_count": 38,
   "id": "vocational-minority",
   "metadata": {},
   "outputs": [
    {
     "name": "stdout",
     "output_type": "stream",
     "text": [
      "a  1    0.483451\n",
      "   2   -0.008558\n",
      "   3    0.402170\n",
      "b  1   -0.105652\n",
      "   2   -1.403142\n",
      "   3   -0.091159\n",
      "c  1    1.223893\n",
      "   2   -1.952023\n",
      "d  2   -1.181098\n",
      "   3    1.774148\n",
      "dtype: float64\n",
      "          1         2         3\n",
      "a  0.483451 -0.008558  0.402170\n",
      "b -0.105652 -1.403142 -0.091159\n",
      "c  1.223893 -1.952023       NaN\n",
      "d       NaN -1.181098  1.774148\n",
      "a  1    0.483451\n",
      "   2   -0.008558\n",
      "   3    0.402170\n",
      "b  1   -0.105652\n",
      "   2   -1.403142\n",
      "   3   -0.091159\n",
      "c  1    1.223893\n",
      "   2   -1.952023\n",
      "d  2   -1.181098\n",
      "   3    1.774148\n",
      "dtype: float64\n"
     ]
    }
   ],
   "source": [
    "import numpy as np\n",
    "data3 = pd.Series(np.random.randn(10),\n",
    "               index = [['a', 'a', 'a', 'b', 'b', 'b', 'c', 'c', 'd', 'd'],\n",
    "                        [1, 2, 3, 1, 2, 3, 1, 2, 2, 3]])\n",
    "# 层次化索引的用途\n",
    "print(data3)\n",
    "print(data3.unstack()) # 将一维数据转化为二维数据\n",
    "print(data3.unstack().stack()) # 再转换回来"
   ]
  }
 ],
 "metadata": {
  "kernelspec": {
   "display_name": "Python 3",
   "language": "python",
   "name": "python3"
  },
  "language_info": {
   "codemirror_mode": {
    "name": "ipython",
    "version": 3
   },
   "file_extension": ".py",
   "mimetype": "text/x-python",
   "name": "python",
   "nbconvert_exporter": "python",
   "pygments_lexer": "ipython3",
   "version": "3.7.10"
  }
 },
 "nbformat": 4,
 "nbformat_minor": 5
}
