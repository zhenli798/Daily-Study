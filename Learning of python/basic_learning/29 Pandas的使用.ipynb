{
 "cells": [
  {
   "cell_type": "code",
   "execution_count": 3,
   "id": "junior-jacket",
   "metadata": {},
   "outputs": [
    {
     "name": "stdout",
     "output_type": "stream",
     "text": [
      "0    4\n",
      "1    5\n",
      "2    6\n",
      "3   -7\n",
      "dtype: int64\n",
      "RangeIndex(start=0, stop=4, step=1)\n",
      "[ 4  5  6 -7]\n"
     ]
    }
   ],
   "source": [
    "import pandas as pd\n",
    "obj = pd.Series([4, 5, 6, -7])\n",
    "print(obj)\n",
    "\n",
    "print(obj.index) # 打印索引\n",
    "print(obj.values) # 打印值"
   ]
  },
  {
   "cell_type": "code",
   "execution_count": 14,
   "id": "absent-parking",
   "metadata": {},
   "outputs": [
    {
     "name": "stdout",
     "output_type": "stream",
     "text": [
      "c    4\n",
      "d    5\n",
      "b    6\n",
      "a    3\n",
      "dtype: int64\n",
      "c    6\n",
      "d    5\n",
      "b    6\n",
      "a    3\n",
      "dtype: int64\n",
      "True\n",
      "False\n",
      "beijing      35000\n",
      "shanghai     70000\n",
      "guangzhou    16000\n",
      "shenzhen      5000\n",
      "dtype: int64\n",
      "bj    35000\n",
      "sh    70000\n",
      "gz    16000\n",
      "sz     5000\n",
      "dtype: int64\n"
     ]
    }
   ],
   "source": [
    "obj2 = pd.Series([4, 5, 6, 3], index = {'a', 'b', 'd', 'c'})\n",
    "print(obj2)\n",
    "obj2['c'] = 6\n",
    "print(obj2)\n",
    "print('c' in obj2) # 判断是否存在键'c'\n",
    "print('f' in obj2)\n",
    "\n",
    "# 将字典转化到我们的series中\n",
    "sdata = {'beijing' : 35000, 'shanghai' : 70000, 'guangzhou' : 16000, 'shenzhen' : 5000}\n",
    "obj3 = pd.Series(sdata)\n",
    "print(obj3)\n",
    "obj3.index = ['bj', 'sh', 'gz', 'sz'] # 修改索引为它们的缩写\n",
    "print(obj3)"
   ]
  }
 ],
 "metadata": {
  "kernelspec": {
   "display_name": "Python 3",
   "language": "python",
   "name": "python3"
  },
  "language_info": {
   "codemirror_mode": {
    "name": "ipython",
    "version": 3
   },
   "file_extension": ".py",
   "mimetype": "text/x-python",
   "name": "python",
   "nbconvert_exporter": "python",
   "pygments_lexer": "ipython3",
   "version": "3.7.10"
  }
 },
 "nbformat": 4,
 "nbformat_minor": 5
}
