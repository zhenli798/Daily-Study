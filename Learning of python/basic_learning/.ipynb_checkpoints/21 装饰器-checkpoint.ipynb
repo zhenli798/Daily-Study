{
 "cells": [
  {
   "cell_type": "code",
   "execution_count": 4,
   "id": "b4fbc761",
   "metadata": {},
   "outputs": [
    {
     "name": "stdout",
     "output_type": "stream",
     "text": [
      "程序运行了3.0008435249328613\n"
     ]
    }
   ],
   "source": [
    "import time\n",
    "\n",
    "def I_sleep():\n",
    "    time.sleep(3)\n",
    "start_time = time.time()\n",
    "I_sleep()\n",
    "stop_time = time.time()\n",
    "print(\"程序运行了%s\" %(stop_time-start_time))"
   ]
  },
  {
   "cell_type": "code",
   "execution_count": 6,
   "id": "a5110ed0",
   "metadata": {},
   "outputs": [
    {
     "name": "stdout",
     "output_type": "stream",
     "text": [
      "程序运行了3.0003662109375\n"
     ]
    }
   ],
   "source": [
    "def timer(func):\n",
    "    def wrapper():\n",
    "        start_time = time.time()\n",
    "        func()\n",
    "        stop_time = time.time()\n",
    "        print(\"程序运行了%s\" %(stop_time-start_time))\n",
    "    return wrapper\n",
    "@timer\n",
    "def I_sleep2():\n",
    "    time.sleep(3)\n",
    "I_sleep2() # 实际上是(timer(I_sleep2))()这么运行的\n",
    "    "
   ]
  },
  {
   "cell_type": "code",
   "execution_count": 9,
   "id": "6e76dfeb",
   "metadata": {},
   "outputs": [
    {
     "name": "stdout",
     "output_type": "stream",
     "text": [
      "start\n",
      "10\n",
      "stop\n"
     ]
    }
   ],
   "source": [
    "# 带参数的装饰器\n",
    "def new(argv):\n",
    "    def out(func):\n",
    "        def inner(a,b):\n",
    "            print('start %s' %argv)\n",
    "            func(a,b)\n",
    "            print('stop')\n",
    "        return inner\n",
    "    return out\n",
    "@out('add')\n",
    "def add(a,b):\n",
    "    print(a + b)  \n",
    "add(7,3)"
   ]
  }
 ],
 "metadata": {
  "kernelspec": {
   "display_name": "Python 3 (ipykernel)",
   "language": "python",
   "name": "python3"
  },
  "language_info": {
   "codemirror_mode": {
    "name": "ipython",
    "version": 3
   },
   "file_extension": ".py",
   "mimetype": "text/x-python",
   "name": "python",
   "nbconvert_exporter": "python",
   "pygments_lexer": "ipython3",
   "version": "3.9.7"
  }
 },
 "nbformat": 4,
 "nbformat_minor": 5
}
