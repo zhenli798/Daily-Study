{
 "cells": [
  {
   "cell_type": "code",
   "execution_count": 9,
   "id": "cardiovascular-novelty",
   "metadata": {},
   "outputs": [
    {
     "name": "stdout",
     "output_type": "stream",
     "text": [
      "5 62 3\n",
      "1 2\n",
      "4 5\n",
      "3 4\n",
      "\n"
     ]
    }
   ],
   "source": [
    "import threading\n",
    "import time\n",
    "from threading import current_thread\n",
    "def myThread(arg1, arg2):\n",
    "    # print(current_thread().getName(),'start')\n",
    "    time.sleep(1)\n",
    "    print('%s %s' %(arg1, arg2))\n",
    "    # print(current_thread().getName(),'stop')\n",
    "for i in range(1, 6, 1):\n",
    "    t1 = threading.Thread(target=myThread,args=(i, i + 1))\n",
    "    t1.start()"
   ]
  },
  {
   "cell_type": "code",
   "execution_count": null,
   "id": "finite-exclusive",
   "metadata": {},
   "outputs": [],
   "source": [
    "# 线程使用start的启动的时候实际上是调用了run方法\n",
    "# 为达到同步的目的，我们可以使用多态的方式去重写run"
   ]
  }
 ],
 "metadata": {
  "kernelspec": {
   "display_name": "Python 3",
   "language": "python",
   "name": "python3"
  },
  "language_info": {
   "codemirror_mode": {
    "name": "ipython",
    "version": 3
   },
   "file_extension": ".py",
   "mimetype": "text/x-python",
   "name": "python",
   "nbconvert_exporter": "python",
   "pygments_lexer": "ipython3",
   "version": "3.7.10"
  }
 },
 "nbformat": 4,
 "nbformat_minor": 5
}
