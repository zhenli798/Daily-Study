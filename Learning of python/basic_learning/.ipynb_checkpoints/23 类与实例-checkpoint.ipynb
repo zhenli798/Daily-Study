{
 "cells": [
  {
   "cell_type": "code",
   "execution_count": 2,
   "id": "invalid-freight",
   "metadata": {},
   "outputs": [
    {
     "name": "stdout",
     "output_type": "stream",
     "text": [
      "name is tom,hp is 100\n",
      "name is jerry,hp is 80\n"
     ]
    }
   ],
   "source": [
    "# 传统表示玩家信息的方法\n",
    "user1 = {'name':'tom','hp':100}\n",
    "user2 = {'name':'jerry','hp':80}\n",
    "\n",
    "def print_role(rolename):\n",
    "    print('name is %s,hp is %s' %(rolename['name'], rolename['hp']))\n",
    "print_role(user1)\n",
    "print_role(user2)"
   ]
  },
  {
   "cell_type": "code",
   "execution_count": 22,
   "id": "meaning-basket",
   "metadata": {},
   "outputs": [
    {
     "name": "stdout",
     "output_type": "stream",
     "text": [
      "name is Tom,hp is 100,occupation is war\n",
      "name is Jerry,hp is 80,occupation is master\n"
     ]
    }
   ],
   "source": [
    "# 使用类的方法\n",
    "class Player():\n",
    "    def __init__(self, name, hp, occu):\n",
    "        self.__name = name # 变量被称作属性\n",
    "        self.hp = hp\n",
    "        self.occu = occu\n",
    "    def print_role(self): # 定义了一个方法(函数被称作方法)\n",
    "        print('name is %s,hp is %s,occupation is %s' %(self.__name, self.hp, self.occu))\n",
    "    def updateName(self, newname):\n",
    "        self.__name = newname\n",
    "user1 = Player('Tom', 100, 'war') # 类的实例化\n",
    "user2 = Player('Jerry', 80, 'master')\n",
    "user1.print_role()\n",
    "user2.print_role()"
   ]
  },
  {
   "cell_type": "code",
   "execution_count": 24,
   "id": "fifth-penny",
   "metadata": {},
   "outputs": [
    {
     "name": "stdout",
     "output_type": "stream",
     "text": [
      "name is wilson,hp is 100,occupation is war\n"
     ]
    }
   ],
   "source": [
    "user1.updateName('wilson')\n",
    "user1.print_role()"
   ]
  },
  {
   "cell_type": "code",
   "execution_count": 30,
   "id": "cultural-classroom",
   "metadata": {},
   "outputs": [],
   "source": [
    "class Monster():\n",
    "    # 定义怪物类\n",
    "    def __init__(self, hp = 100):\n",
    "        self.hp = hp\n",
    "    def run(self):\n",
    "        print('移动到某个位置')\n",
    "    def whoami(self):\n",
    "        print('我是怪物父类')\n",
    "class Animals(Monster): # 继承自Monster类\n",
    "    # 普通怪物\n",
    "    def __init__(self, hp = 10):\n",
    "        super().__init__(hp)\n",
    "        \n",
    "class Boss(Monster):\n",
    "    # Boss类怪物\n",
    "    def __init__(self, hp=800):\n",
    "        super().__init__(hp)\n",
    "    def whoami(self): # 有重名的方法，使用时会覆盖父类的方法\n",
    "        print('我是Boss')"
   ]
  },
  {
   "cell_type": "code",
   "execution_count": 32,
   "id": "romantic-satellite",
   "metadata": {},
   "outputs": [
    {
     "name": "stdout",
     "output_type": "stream",
     "text": [
      "移动到某个位置\n",
      "200\n",
      "移动到某个位置\n",
      "100\n",
      "我是Boss\n",
      "a1的类型 <class '__main__.Monster'>\n",
      "a2的类型 <class '__main__.Animals'>\n",
      "a3的类型 <class '__main__.Boss'>\n"
     ]
    }
   ],
   "source": [
    "a1 = Monster(200)\n",
    "a1.run()\n",
    "print(a1.hp)\n",
    "\n",
    "a2 = Animals(100)\n",
    "a2.run()\n",
    "print(a2.hp)\n",
    "\n",
    "a3 = Boss(1000)\n",
    "a3.whoami()\n",
    "\n",
    "print('a1的类型 %s' %type(a1))\n",
    "print('a2的类型 %s' %type(a2))\n",
    "print('a3的类型 %s' %type(a3))\n",
    "\n",
    "print(isinstance(a2, Monster)) # 判断对象是否是一个已知类型"
   ]
  },
  {
   "cell_type": "code",
   "execution_count": 35,
   "id": "diagnostic-selling",
   "metadata": {},
   "outputs": [
    {
     "name": "stdout",
     "output_type": "stream",
     "text": [
      "run\n",
      "test is running\n",
      "has error <traceback object at 0x000001B15275AE88>\n"
     ]
    },
    {
     "ename": "NameError",
     "evalue": "testNameError",
     "output_type": "error",
     "traceback": [
      "\u001b[1;31m---------------------------------------------------------------------------\u001b[0m",
      "\u001b[1;31mNameError\u001b[0m                                 Traceback (most recent call last)",
      "\u001b[1;32m<ipython-input-35-43447acc2317>\u001b[0m in \u001b[0;36m<module>\u001b[1;34m\u001b[0m\n\u001b[0;32m      9\u001b[0m \u001b[1;32mwith\u001b[0m \u001b[0mTestwith\u001b[0m\u001b[1;33m(\u001b[0m\u001b[1;33m)\u001b[0m\u001b[1;33m:\u001b[0m\u001b[1;33m\u001b[0m\u001b[1;33m\u001b[0m\u001b[0m\n\u001b[0;32m     10\u001b[0m     \u001b[0mprint\u001b[0m\u001b[1;33m(\u001b[0m\u001b[1;34m'test is running'\u001b[0m\u001b[1;33m)\u001b[0m\u001b[1;33m\u001b[0m\u001b[1;33m\u001b[0m\u001b[0m\n\u001b[1;32m---> 11\u001b[1;33m     \u001b[1;32mraise\u001b[0m \u001b[0mNameError\u001b[0m\u001b[1;33m(\u001b[0m\u001b[1;34m'testNameError'\u001b[0m\u001b[1;33m)\u001b[0m \u001b[1;31m# 手动抛出异常\u001b[0m\u001b[1;33m\u001b[0m\u001b[1;33m\u001b[0m\u001b[0m\n\u001b[0m",
      "\u001b[1;31mNameError\u001b[0m: testNameError"
     ]
    }
   ],
   "source": [
    "class Testwith():\n",
    "    def __enter__(self):\n",
    "        print('run')\n",
    "    def __exit__(self, exc_type, exc_val, exc_tb):\n",
    "        if exc_tb is None: # 没有异常它的值就是None\n",
    "            print('正常结束')\n",
    "        else:\n",
    "            print('has error %s' %exc_tb)\n",
    "with Testwith():\n",
    "    print('test is running')\n",
    "    raise NameError('testNameError') # 手动抛出异常"
   ]
  }
 ],
 "metadata": {
  "kernelspec": {
   "display_name": "Python 3",
   "language": "python",
   "name": "python3"
  },
  "language_info": {
   "codemirror_mode": {
    "name": "ipython",
    "version": 3
   },
   "file_extension": ".py",
   "mimetype": "text/x-python",
   "name": "python",
   "nbconvert_exporter": "python",
   "pygments_lexer": "ipython3",
   "version": "3.7.10"
  }
 },
 "nbformat": 4,
 "nbformat_minor": 5
}
