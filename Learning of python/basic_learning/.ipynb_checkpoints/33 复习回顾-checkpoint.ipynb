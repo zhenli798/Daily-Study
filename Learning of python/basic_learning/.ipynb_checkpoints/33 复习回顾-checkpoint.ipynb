{
 "cells": [
  {
   "cell_type": "code",
   "execution_count": 4,
   "id": "fitted-outreach",
   "metadata": {},
   "outputs": [
    {
     "name": "stdout",
     "output_type": "stream",
     "text": [
      "abc\n",
      "a = 1\n",
      "b = 2\n",
      "c = 3\n",
      "a = 1\n",
      "b = 3\n",
      "c = 2\n"
     ]
    }
   ],
   "source": [
    "print('abc', end='\\n') # end是指定关键字参数，好处是不用按顺序输入参数\n",
    "    \n",
    "def func(a, b, c):\n",
    "    print('a = %s' %a)\n",
    "    print('b = %s' %b)\n",
    "    print('c = %s' %c)\n",
    "func(1, 2, 3)\n",
    "func(1, c = 2, b = 3) # 指定关键字，不用按顺序输入参数"
   ]
  },
  {
   "cell_type": "code",
   "execution_count": 7,
   "id": "welcome-vision",
   "metadata": {},
   "outputs": [
    {
     "name": "stdout",
     "output_type": "stream",
     "text": [
      "3\n"
     ]
    }
   ],
   "source": [
    "# 取得参数的个数\n",
    "def howlong(first, *other):\n",
    "    print(1 + len(other))\n",
    "howlong(1, 2, 3)"
   ]
  },
  {
   "cell_type": "code",
   "execution_count": 8,
   "id": "rental-pharmacology",
   "metadata": {},
   "outputs": [
    {
     "name": "stdout",
     "output_type": "stream",
     "text": [
      "456\n",
      "123\n"
     ]
    }
   ],
   "source": [
    "var1 = 123\n",
    "def func():\n",
    "    var1 = 456 # 它的影响范围只是在这个函数内，如果要让它的影响范围变大的话，要加上关键字global，即global var1 \n",
    "    print(var1) # 输出456\n",
    "func()\n",
    "print(var1) # 输出的还是123"
   ]
  },
  {
   "cell_type": "code",
   "execution_count": 10,
   "id": "abandoned-order",
   "metadata": {},
   "outputs": [
    {
     "name": "stdout",
     "output_type": "stream",
     "text": [
      "<list_iterator object at 0x0000027DDD494D48>\n",
      "1\n",
      "2\n",
      "3\n"
     ]
    }
   ],
   "source": [
    "list1 = [1, 2, 3]\n",
    "it = iter(list1)\n",
    "print(it)\n",
    "for i in iter(it):\n",
    "    print(i)"
   ]
  },
  {
   "cell_type": "code",
   "execution_count": 16,
   "id": "colonial-think",
   "metadata": {},
   "outputs": [
    {
     "data": {
      "text/plain": [
       "('a', 'b')"
      ]
     },
     "execution_count": 16,
     "metadata": {},
     "output_type": "execute_result"
    }
   ],
   "source": []
  },
  {
   "cell_type": "code",
   "execution_count": null,
   "id": "plastic-adventure",
   "metadata": {},
   "outputs": [],
   "source": []
  }
 ],
 "metadata": {
  "kernelspec": {
   "display_name": "Python 3",
   "language": "python",
   "name": "python3"
  },
  "language_info": {
   "codemirror_mode": {
    "name": "ipython",
    "version": 3
   },
   "file_extension": ".py",
   "mimetype": "text/x-python",
   "name": "python",
   "nbconvert_exporter": "python",
   "pygments_lexer": "ipython3",
   "version": "3.7.10"
  }
 },
 "nbformat": 4,
 "nbformat_minor": 5
}
