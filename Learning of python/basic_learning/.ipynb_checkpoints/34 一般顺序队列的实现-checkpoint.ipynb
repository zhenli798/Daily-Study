{
 "cells": [
  {
   "cell_type": "code",
   "execution_count": 33,
   "id": "weighted-webcam",
   "metadata": {},
   "outputs": [],
   "source": [
    "from typing import Optional\n",
    "class ArrayQueue:\n",
    "    def __init__(self, capacity: int):\n",
    "        self.__items = [0 for i in range(capacity)]\n",
    "        self.__n = capacity\n",
    "        self.__head = 0\n",
    "        self.__tail = 0\n",
    "    def enqueue(self, item: str) -> bool:\n",
    "        if self.__tail == self.__n:\n",
    "            if self.__head == 0: # 队列已满 \n",
    "                return False\n",
    "            # 充分利用空间，进行数据搬运\n",
    "            for i in range(self.__head, self.__tail):\n",
    "                self.__items[i - self.__head] = self.__items[i]\n",
    "            self.__tail = self.__tail - self.__head\n",
    "            self.__head = 0\n",
    "        self.__items[self.__tail] = item\n",
    "        self.__tail = self.__tail + 1\n",
    "        return True\n",
    "    def dequeue(self) -> Optional[str]:\n",
    "        if (self.__head == self.__tail): \n",
    "            return None\n",
    "        item = self.__items[self.__head]\n",
    "        self.__head = self.__head + 1\n",
    "        return item"
   ]
  },
  {
   "cell_type": "code",
   "execution_count": 34,
   "id": "applicable-behalf",
   "metadata": {},
   "outputs": [
    {
     "name": "stdout",
     "output_type": "stream",
     "text": [
      "False\n",
      "3\n",
      "True\n",
      "2\n",
      "1\n",
      "0\n",
      "None\n"
     ]
    }
   ],
   "source": [
    "q = ArrayQueue(3)\n",
    "q.enqueue(3)\n",
    "q.enqueue(2)\n",
    "q.enqueue(1)\n",
    "print(q.enqueue(0)) # 数量上限，故插入失败\n",
    "print(q.dequeue()) # 将元素3弹出，给元素0腾位置\n",
    "print(q.enqueue(0))\n",
    "print(q.dequeue())\n",
    "print(q.dequeue())\n",
    "print(q.dequeue())\n",
    "print(q.dequeue()) # 队列为空情况"
   ]
  },
  {
   "cell_type": "code",
   "execution_count": 13,
   "id": "invisible-demonstration",
   "metadata": {},
   "outputs": [],
   "source": [
    "from typing import Optional\n",
    "class Node:\n",
    "    def __init__(self, data: str):\n",
    "        self.__data = data\n",
    "        self.__next = None\n",
    "    def setNext(self, next):\n",
    "        self.__next = next\n",
    "    def getNext(self):\n",
    "        return self.__next\n",
    "    def setData(self, data: str):\n",
    "        self.__data = data\n",
    "    def getData(self) -> str:\n",
    "        return self.__data\n",
    "\n",
    "class LinkedListQueue:\n",
    "    def __init__(self, capacity: int):\n",
    "        self.__n = capacity\n",
    "        self.__capacity = 0\n",
    "        self.__head = None\n",
    "        self.__tail = None\n",
    "    def enqueue(self, item: str) -> bool:\n",
    "        if self.__capacity == self.__n:\n",
    "            return False\n",
    "        node = Node(item)\n",
    "        if self.__capacity == 0: # 队列为空\n",
    "            self.__tail = node\n",
    "            self.__head = node\n",
    "        else:\n",
    "            self.__tail.setNext(node)\n",
    "            self.__tail = self.__tail.getNext()\n",
    "        self.__capacity = self.__capacity + 1\n",
    "        return True\n",
    "    def dequeue(self) -> Optional[str]:\n",
    "        if self.__capacity == 0:\n",
    "            return None\n",
    "        else:\n",
    "            data = self.__head.getData()\n",
    "            self.__head = self.__head.getNext()\n",
    "            self.__capacity = self.__capacity - 1\n",
    "            return data"
   ]
  },
  {
   "cell_type": "code",
   "execution_count": 14,
   "id": "established-soccer",
   "metadata": {},
   "outputs": [
    {
     "data": {
      "text/plain": [
       "False"
      ]
     },
     "execution_count": 14,
     "metadata": {},
     "output_type": "execute_result"
    }
   ],
   "source": [
    "myQueue = LinkedListQueue(3)\n",
    "myQueue.enqueue(\"zhangsan\")\n",
    "myQueue.enqueue(\"lisi\")\n",
    "myQueue.enqueue(\"wangwu\")\n",
    "myQueue.enqueue(\"add\")"
   ]
  },
  {
   "cell_type": "code",
   "execution_count": 15,
   "id": "psychological-sense",
   "metadata": {},
   "outputs": [
    {
     "name": "stdout",
     "output_type": "stream",
     "text": [
      "zhangsan\n",
      "lisi\n",
      "wangwu\n"
     ]
    }
   ],
   "source": [
    "for i in range(3):\n",
    "    print(myQueue.dequeue())"
   ]
  },
  {
   "cell_type": "code",
   "execution_count": 16,
   "id": "durable-jaguar",
   "metadata": {},
   "outputs": [
    {
     "name": "stdout",
     "output_type": "stream",
     "text": [
      "None\n"
     ]
    }
   ],
   "source": [
    "print(myQueue.dequeue())"
   ]
  },
  {
   "cell_type": "code",
   "execution_count": 17,
   "id": "looking-strap",
   "metadata": {},
   "outputs": [
    {
     "data": {
      "text/plain": [
       "True"
      ]
     },
     "execution_count": 17,
     "metadata": {},
     "output_type": "execute_result"
    }
   ],
   "source": [
    "myQueue.enqueue(\"add\")"
   ]
  },
  {
   "cell_type": "code",
   "execution_count": 18,
   "id": "guided-unemployment",
   "metadata": {},
   "outputs": [
    {
     "name": "stdout",
     "output_type": "stream",
     "text": [
      "add\n"
     ]
    }
   ],
   "source": [
    "print(myQueue.dequeue())"
   ]
  },
  {
   "cell_type": "code",
   "execution_count": 20,
   "id": "fatty-society",
   "metadata": {},
   "outputs": [],
   "source": [
    "myQueue.dequeue()"
   ]
  },
  {
   "cell_type": "code",
   "execution_count": 22,
   "id": "alleged-bradford",
   "metadata": {},
   "outputs": [
    {
     "ename": "AttributeError",
     "evalue": "'LinkedListQueue' object has no attribute 'n'",
     "output_type": "error",
     "traceback": [
      "\u001b[1;31m---------------------------------------------------------------------------\u001b[0m",
      "\u001b[1;31mAttributeError\u001b[0m                            Traceback (most recent call last)",
      "\u001b[1;32m<ipython-input-22-8f61f3f75d81>\u001b[0m in \u001b[0;36m<module>\u001b[1;34m\u001b[0m\n\u001b[1;32m----> 1\u001b[1;33m \u001b[0mprint\u001b[0m\u001b[1;33m(\u001b[0m\u001b[0mmyQueue\u001b[0m\u001b[1;33m.\u001b[0m\u001b[0mn\u001b[0m\u001b[1;33m)\u001b[0m\u001b[1;33m\u001b[0m\u001b[1;33m\u001b[0m\u001b[0m\n\u001b[0m",
      "\u001b[1;31mAttributeError\u001b[0m: 'LinkedListQueue' object has no attribute 'n'"
     ]
    }
   ],
   "source": [
    "print(myQueue.__n)"
   ]
  }
 ],
 "metadata": {
  "kernelspec": {
   "display_name": "Python 3",
   "language": "python",
   "name": "python3"
  },
  "language_info": {
   "codemirror_mode": {
    "name": "ipython",
    "version": 3
   },
   "file_extension": ".py",
   "mimetype": "text/x-python",
   "name": "python",
   "nbconvert_exporter": "python",
   "pygments_lexer": "ipython3",
   "version": "3.7.10"
  }
 },
 "nbformat": 4,
 "nbformat_minor": 5
}
