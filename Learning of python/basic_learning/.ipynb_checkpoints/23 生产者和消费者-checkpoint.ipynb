{
 "cells": [
  {
   "cell_type": "code",
   "execution_count": 1,
   "id": "371af7d8",
   "metadata": {},
   "outputs": [],
   "source": [
    "from threading import Thread,current_thread\n",
    "import time\n",
    "import random\n",
    "from queue import Queue\n",
    "\n",
    "queue = Queue(5) # 定义队列的长度"
   ]
  },
  {
   "cell_type": "code",
   "execution_count": 2,
   "id": "8f4d596f",
   "metadata": {},
   "outputs": [],
   "source": [
    "class ProducerThread(Thread):\n",
    "    def run(self):\n",
    "        name = current_thread().getName() # 获取线程的名字\n",
    "        nums = range(100)\n",
    "        global queue\n",
    "        while True:\n",
    "            num = random.choice(nums)\n",
    "            queue.put(num)\n",
    "            print('生产者 %s 生产了数据 %s' %(name, num))\n",
    "            t = random.randint(1, 3)\n",
    "            time.sleep(t)\n",
    "            print('生产者 %s 睡眠了 %s 秒' %(name, t))\n",
    "        "
   ]
  },
  {
   "cell_type": "code",
   "execution_count": 4,
   "id": "bd9b92c5",
   "metadata": {},
   "outputs": [],
   "source": [
    "class ConsumerThread(Thread):\n",
    "    def run(self):\n",
    "        name = current_thread().getName()\n",
    "        global queue\n",
    "        while True:\n",
    "            num = queue.get()\n",
    "            queue.task_done() # 封装好了关于线程等待和线程同步的代码\n",
    "            print('消费者 %s 消耗了数据 %s' %(name, num))\n",
    "            t = random.randint(1, 5)\n",
    "            time.sleep(t)\n",
    "            print('消费者 %s 睡眠了 %s 秒' %(name, t))"
   ]
  },
  {
   "cell_type": "code",
   "execution_count": 6,
   "id": "bb48c4e5",
   "metadata": {},
   "outputs": [
    {
     "name": "stdout",
     "output_type": "stream",
     "text": [
      "生产者 p1 生产了数据 44\n",
      "生产者 p2 生产了数据 51\n",
      "生产者 p3 生产了数据 86\n",
      "消费者 c1 消耗了数据 46消费者 c2 消耗了数据 44\n",
      "\n",
      "生产者 p1 睡眠了 3 秒\n",
      "生产者 p1 生产了数据 50\n",
      "消费者 c1 睡眠了 1 秒\n",
      "消费者 c1 消耗了数据 51\n",
      "消费者 c2 睡眠了 1 秒\n",
      "消费者 c2 消耗了数据 86\n",
      "消费者 c2 睡眠了 5 秒\n",
      "消费者 c2 消耗了数据 50\n",
      "生产者 p1 睡眠了 1 秒\n",
      "生产者 p1 生产了数据 27\n",
      "生产者 p1 睡眠了 2 秒\n",
      "生产者 p1 生产了数据 70\n",
      "消费者 c1 睡眠了 5 秒\n",
      "消费者 c1 消耗了数据 27\n",
      "生产者 p2 睡眠了 3 秒\n",
      "生产者 p2 生产了数据 12\n",
      "生产者 p3 睡眠了 3 秒\n",
      "生产者 p3 生产了数据 5\n",
      "消费者 c1 睡眠了 2 秒\n",
      "消费者 c1 消耗了数据 70\n",
      "生产者 p1 睡眠了 2 秒\n",
      "生产者 p1 生产了数据 9\n",
      "生产者 p2 睡眠了 1 秒\n",
      "生产者 p2 生产了数据 72\n",
      "消费者 c2 睡眠了 3 秒\n",
      "消费者 c2 消耗了数据 12\n",
      "消费者 c2 睡眠了 3 秒\n",
      "消费者 c2 消耗了数据 5\n",
      "生产者 p1 睡眠了 1 秒\n",
      "生产者 p1 生产了数据 66\n",
      "生产者 p1 睡眠了 3 秒\n",
      "生产者 p1 生产了数据 44\n",
      "生产者 p3 睡眠了 2 秒\n",
      "生产者 p3 生产了数据 7\n",
      "消费者 c2 睡眠了 1 秒\n",
      "消费者 c2 消耗了数据 9\n",
      "生产者 p1 睡眠了 1 秒\n",
      "生产者 p1 生产了数据 50\n",
      "消费者 c1 睡眠了 4 秒\n",
      "消费者 c1 消耗了数据 72\n",
      "生产者 p2 睡眠了 3 秒\n",
      "生产者 p2 生产了数据 83\n",
      "生产者 p3 睡眠了 2 秒\n",
      "消费者 c1 睡眠了 4 秒\n",
      "消费者 c1 消耗了数据 66\n",
      "生产者 p3 生产了数据 93\n"
     ]
    }
   ],
   "source": [
    "p1 = ProducerThread(name = 'p1')\n",
    "p1.start()\n",
    "p2 = ProducerThread(name = 'p2')\n",
    "p2.start()\n",
    "p3 = ProducerThread(name = 'p3')\n",
    "p3.start()\n",
    "c1 = ConsumerThread(name = 'c1')\n",
    "c1.start()\n",
    "c2 = ConsumerThread(name = 'c2')\n",
    "c2.start()"
   ]
  }
 ],
 "metadata": {
  "kernelspec": {
   "display_name": "Python 3 (ipykernel)",
   "language": "python",
   "name": "python3"
  },
  "language_info": {
   "codemirror_mode": {
    "name": "ipython",
    "version": 3
   },
   "file_extension": ".py",
   "mimetype": "text/x-python",
   "name": "python",
   "nbconvert_exporter": "python",
   "pygments_lexer": "ipython3",
   "version": "3.9.7"
  }
 },
 "nbformat": 4,
 "nbformat_minor": 5
}
