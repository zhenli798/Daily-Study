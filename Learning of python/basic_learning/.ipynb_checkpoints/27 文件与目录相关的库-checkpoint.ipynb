{
 "cells": [
  {
   "cell_type": "code",
   "execution_count": 4,
   "id": "547d5684",
   "metadata": {},
   "outputs": [
    {
     "name": "stdout",
     "output_type": "stream",
     "text": [
      "C:\\Users\\79866\\Desktop\\github\\Daily-Study\\Learning of python\n"
     ]
    }
   ],
   "source": [
    "from os import path\n",
    "print(path.abspath('..')) # 根据相对路径.获得绝对路径"
   ]
  },
  {
   "cell_type": "code",
   "execution_count": 7,
   "id": "d3eb5979",
   "metadata": {},
   "outputs": [
    {
     "name": "stdout",
     "output_type": "stream",
     "text": [
      "True\n"
     ]
    }
   ],
   "source": [
    "print(path.exists('./01 hello_world.py')) # 判断文件是否存在"
   ]
  },
  {
   "cell_type": "code",
   "execution_count": 14,
   "id": "6435bd6e",
   "metadata": {},
   "outputs": [
    {
     "name": "stdout",
     "output_type": "stream",
     "text": [
      "True\n",
      "False\n",
      "True\n",
      "/tmp/01 hello_world.py\n"
     ]
    }
   ],
   "source": [
    "print(path.isfile('./01 hello_world.py')) # 判断是否是文件\n",
    "print(path.isdir('./01 hello_world.py')) # 判断是否是目录\n",
    "print(path.isdir('.'))\n",
    "print(path.join('/tmp/','01 hello_world.py')) # 路径拼接"
   ]
  },
  {
   "cell_type": "code",
   "execution_count": 20,
   "id": "e7c8323a",
   "metadata": {},
   "outputs": [
    {
     "name": "stdout",
     "output_type": "stream",
     "text": [
      "C:\\Users\\79866\\Desktop\\github\\Daily-Study\\Learning of python\\basic_learning\n",
      "True\n"
     ]
    }
   ],
   "source": [
    "from pathlib import Path\n",
    "p = Path('.')\n",
    "print(p.resolve()) # 根据相对路径获得绝对路径，跟我们的path.abspath()一样\n",
    "print(p.is_dir()) # 判断当前位置是否是目录\n",
    "q = Path('./a/b/c')\n",
    "Path.mkdir(q, parents=True) # parents=True是当父级目录不存在时会创建父级目录"
   ]
  }
 ],
 "metadata": {
  "kernelspec": {
   "display_name": "Python 3 (ipykernel)",
   "language": "python",
   "name": "python3"
  },
  "language_info": {
   "codemirror_mode": {
    "name": "ipython",
    "version": 3
   },
   "file_extension": ".py",
   "mimetype": "text/x-python",
   "name": "python",
   "nbconvert_exporter": "python",
   "pygments_lexer": "ipython3",
   "version": "3.9.7"
  }
 },
 "nbformat": 4,
 "nbformat_minor": 5
}
