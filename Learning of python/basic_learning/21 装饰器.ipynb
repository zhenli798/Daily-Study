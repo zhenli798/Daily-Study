{
 "cells": [
  {
   "cell_type": "code",
   "execution_count": 4,
   "id": "294f0066",
   "metadata": {},
   "outputs": [
    {
     "name": "stdout",
     "output_type": "stream",
     "text": [
      "程序运行了3.0008435249328613\n"
     ]
    }
   ],
   "source": [
    "import time\n",
    "\n",
    "def I_sleep():\n",
    "    time.sleep(3)\n",
    "start_time = time.time()\n",
    "I_sleep()\n",
    "stop_time = time.time()\n",
    "print(\"程序运行了%s\" %(stop_time-start_time))"
   ]
  },
  {
   "cell_type": "code",
   "execution_count": 6,
   "id": "be3d59c2",
   "metadata": {},
   "outputs": [
    {
     "name": "stdout",
     "output_type": "stream",
     "text": [
      "程序运行了3.0003662109375\n"
     ]
    }
   ],
   "source": [
    "def timer(func):\n",
    "    def wrapper():\n",
    "        start_time = time.time()\n",
    "        func()\n",
    "        stop_time = time.time()\n",
    "        print(\"程序运行了%s\" %(stop_time-start_time))\n",
    "    return wrapper\n",
    "@timer\n",
    "def I_sleep2():\n",
    "    time.sleep(3)\n",
    "I_sleep2() # 实际上是(timer(I_sleep2))()这么运行的\n",
    "    "
   ]
  },
  {
   "cell_type": "code",
   "execution_count": 13,
   "id": "b3269b61",
   "metadata": {},
   "outputs": [
    {
     "name": "stdout",
     "output_type": "stream",
     "text": [
      "start add_module add\n",
      "8\n",
      "stop\n",
      "start sub_module sub\n",
      "2\n",
      "stop\n"
     ]
    }
   ],
   "source": [
    "# 带参数的装饰器\n",
    "def new(argv):\n",
    "    def out(func):\n",
    "        def inner(a,b):\n",
    "            print('start %s %s' %(argv, func.__name__)) # __name__取传入函数的名字\n",
    "            func(a,b)\n",
    "            print('stop')\n",
    "        return inner\n",
    "    return out\n",
    "@new('add_module')\n",
    "def add(a,b):\n",
    "    print(a + b) \n",
    "@new('sub_module')\n",
    "def sub(a,b):\n",
    "    print(a - b)\n",
    "add(3, 5)\n",
    "sub(5, 3)"
   ]
  }
 ],
 "metadata": {
  "kernelspec": {
   "display_name": "Python 3 (ipykernel)",
   "language": "python",
   "name": "python3"
  },
  "language_info": {
   "codemirror_mode": {
    "name": "ipython",
    "version": 3
   },
   "file_extension": ".py",
   "mimetype": "text/x-python",
   "name": "python",
   "nbconvert_exporter": "python",
   "pygments_lexer": "ipython3",
   "version": "3.9.7"
  }
 },
 "nbformat": 4,
 "nbformat_minor": 5
}
