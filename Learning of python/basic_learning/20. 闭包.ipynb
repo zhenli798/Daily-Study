{
 "cells": [
  {
   "cell_type": "code",
   "execution_count": 1,
   "id": "7b5a5598",
   "metadata": {},
   "outputs": [
    {
     "name": "stdout",
     "output_type": "stream",
     "text": [
      "6\n",
      "7\n",
      "11\n",
      "12\n"
     ]
    }
   ],
   "source": [
    "# 使用闭包实现计数器\n",
    "def counter(FIRST=0):\n",
    "    cnt = [FIRST]\n",
    "    def add_one():\n",
    "        cnt[0] += 1\n",
    "        return cnt[0]\n",
    "    return add_one\n",
    "num1 = counter(5)\n",
    "num2 = counter(10)\n",
    "print(num1())\n",
    "print(num1())\n",
    "print(num2())\n",
    "print(num2())"
   ]
  },
  {
   "cell_type": "code",
   "execution_count": 4,
   "id": "ce77accb",
   "metadata": {},
   "outputs": [
    {
     "name": "stdout",
     "output_type": "stream",
     "text": [
      "20\n",
      "55\n"
     ]
    }
   ],
   "source": [
    "def a_line(a, b):\n",
    "    return lambda x:a*x+b\n",
    "line1 = a_line(3, 5)\n",
    "line2 = a_line(10, 5)\n",
    "print(line1(5))\n",
    "print(line2(5))"
   ]
  }
 ],
 "metadata": {
  "kernelspec": {
   "display_name": "Python 3 (ipykernel)",
   "language": "python",
   "name": "python3"
  },
  "language_info": {
   "codemirror_mode": {
    "name": "ipython",
    "version": 3
   },
   "file_extension": ".py",
   "mimetype": "text/x-python",
   "name": "python",
   "nbconvert_exporter": "python",
   "pygments_lexer": "ipython3",
   "version": "3.9.7"
  }
 },
 "nbformat": 4,
 "nbformat_minor": 5
}
