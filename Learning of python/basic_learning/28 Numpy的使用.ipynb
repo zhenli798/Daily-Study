{
 "cells": [
  {
   "cell_type": "code",
   "execution_count": 1,
   "id": "cordless-conference",
   "metadata": {},
   "outputs": [
    {
     "name": "stdout",
     "output_type": "stream",
     "text": [
      "[2 3 4]\n",
      "int32\n",
      "[2.1 3.1 4.1]\n",
      "float64\n",
      "[4.1 6.1 8.1]\n"
     ]
    }
   ],
   "source": [
    "import numpy as np\n",
    "arr1 = np.array([2, 3, 4])\n",
    "print(arr1)\n",
    "print(arr1.dtype)\n",
    "\n",
    "arr2 = np.array([2.1, 3.1, 4.1])\n",
    "print(arr2)\n",
    "print(arr2.dtype)\n",
    "print(arr1 + arr2)"
   ]
  },
  {
   "cell_type": "code",
   "execution_count": 5,
   "id": "catholic-target",
   "metadata": {},
   "outputs": [
    {
     "name": "stdout",
     "output_type": "stream",
     "text": [
      "[21. 31. 41.]\n",
      "[[1 2 3]\n",
      " [4 5 6]]\n",
      "int32\n",
      "<class 'numpy.ndarray'>\n"
     ]
    }
   ],
   "source": [
    "# Numpy数组和标量的计算\n",
    "print(arr2 * 10)\n",
    "data = [[1,2,3], [4,5,6]]\n",
    "arr3 = np.array(data) # 将列表转为二维矩阵\n",
    "print(arr3)\n",
    "print(arr3.dtype)\n",
    "print(type(arr3))"
   ]
  },
  {
   "cell_type": "code",
   "execution_count": 10,
   "id": "pharmaceutical-discount",
   "metadata": {},
   "outputs": [
    {
     "name": "stdout",
     "output_type": "stream",
     "text": [
      "[0. 0. 0. 0. 0. 0. 0. 0. 0. 0.]\n",
      "[[0. 0. 0. 0. 0.]\n",
      " [0. 0. 0. 0. 0.]\n",
      " [0. 0. 0. 0. 0.]]\n",
      "[[1. 1. 1. 1. 1. 1.]\n",
      " [1. 1. 1. 1. 1. 1.]\n",
      " [1. 1. 1. 1. 1. 1.]\n",
      " [1. 1. 1. 1. 1. 1.]]\n",
      "[[[0. 0.]\n",
      "  [0. 0.]\n",
      "  [0. 0.]]\n",
      "\n",
      " [[0. 0.]\n",
      "  [0. 0.]\n",
      "  [0. 0.]]]\n"
     ]
    }
   ],
   "source": [
    "print(np.zeros(10)) # 定义了一个一维的长度为10的数组，这个数组的所有值都是0\n",
    "print(np.zeros((3, 5))) # 定义一个3x5的矩阵，这个矩阵的所有值为0\n",
    "print(np.ones((4, 6))) # 定义一个4x6的矩阵，初始值都为1\n",
    "print(np.empty((2,3,2))) # 定义了一个三维矩阵，初始值为随机值"
   ]
  },
  {
   "cell_type": "code",
   "execution_count": 19,
   "id": "ordinary-parts",
   "metadata": {},
   "outputs": [
    {
     "name": "stdout",
     "output_type": "stream",
     "text": [
      "5\n",
      "[5 6 7]\n",
      "[0 1 2 3 4 0 0 0 8 9]\n",
      "[0 1 2 3 4 1 1 1 8 9]\n",
      "[0 1 2 3 4 1 1 1 8 9]\n",
      "[0 0 0]\n",
      "b\n"
     ]
    }
   ],
   "source": [
    "# Numpy数组的索引和切片\n",
    "arr4 = np.arange(10)\n",
    "print(arr4[5])\n",
    "print(arr4[5:8])\n",
    "arr4[5:8] = 0\n",
    "print(arr4)\n",
    "arr_slice = arr4[5:8]\n",
    "arr_slice[:] = 1 # 由于python这里是引用，故而这么做会影响到arr4的内容\n",
    "print(arr4)\n",
    "arr_slice = arr4[5:8].copy()\n",
    "arr_slice[:] = 0 # 这样子做操作不会影响arr4，因为它是arr4的一个副本\n",
    "print(arr4)\n",
    "print(arr_slice)\n",
    "arr5 = np.array(['a', 'b', 'c', 'd'])\n",
    "print(arr5[1]) # 下标从0开始计算"
   ]
  }
 ],
 "metadata": {
  "kernelspec": {
   "display_name": "Python 3",
   "language": "python",
   "name": "python3"
  },
  "language_info": {
   "codemirror_mode": {
    "name": "ipython",
    "version": 3
   },
   "file_extension": ".py",
   "mimetype": "text/x-python",
   "name": "python",
   "nbconvert_exporter": "python",
   "pygments_lexer": "ipython3",
   "version": "3.7.10"
  }
 },
 "nbformat": 4,
 "nbformat_minor": 5
}
