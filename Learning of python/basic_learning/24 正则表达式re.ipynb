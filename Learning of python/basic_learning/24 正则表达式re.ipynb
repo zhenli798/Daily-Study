{
 "cells": [
  {
   "cell_type": "markdown",
   "id": "af3c264e",
   "metadata": {},
   "source": [
    "# 1. 单个字符的匹配"
   ]
  },
  {
   "cell_type": "code",
   "execution_count": 12,
   "id": "b5bc8e40",
   "metadata": {},
   "outputs": [
    {
     "name": "stdout",
     "output_type": "stream",
     "text": [
      "<re.Match object; span=(0, 3), match='aaa'>\n",
      "<re.Match object; span=(0, 0), match=''>\n"
     ]
    }
   ],
   "source": [
    "import re\n",
    "p = re.compile('a*')\n",
    "print(p.match('aaa2'))\n",
    "print(p.match('b'))"
   ]
  },
  {
   "cell_type": "markdown",
   "id": "0a3a20bc",
   "metadata": {},
   "source": [
    "# 2. 匹配日期"
   ]
  },
  {
   "cell_type": "code",
   "execution_count": 24,
   "id": "cfc05781",
   "metadata": {},
   "outputs": [
    {
     "name": "stdout",
     "output_type": "stream",
     "text": [
      "2022-05-05\n",
      "2022\n",
      "('2022', '05', '07')\n"
     ]
    }
   ],
   "source": [
    "p = re.compile(r'(\\d+)-(\\d+)-(\\d+)') # r是告知python字符串中的特殊符号不要进行转义\n",
    "print(p.search('aaa2022-05-05').group()) # 获取匹配到的内容\n",
    "print(p.search('aaa2022-05-07').group(1)) # 获取年\n",
    "print(p.match('2022-05-07').groups()) # 获取年月日，用元组去存\n",
    "year,month,day = ('2022', '05', '07')"
   ]
  },
  {
   "cell_type": "markdown",
   "id": "8f66f5cd",
   "metadata": {},
   "source": [
    "# 3. 使用sub删去电话号码结尾不合法部分"
   ]
  },
  {
   "cell_type": "code",
   "execution_count": 27,
   "id": "a7cf768f",
   "metadata": {},
   "outputs": [
    {
     "name": "stdout",
     "output_type": "stream",
     "text": [
      "123-456-789 \n",
      "123456789\n"
     ]
    }
   ],
   "source": [
    "phone = '123-456-789 # 这是一个电话号码'\n",
    "p = re.sub(r'#.*$', '', phone)\n",
    "print(p)\n",
    "p2 = re.sub(r'\\D','',p)\n",
    "print(p2)"
   ]
  }
 ],
 "metadata": {
  "kernelspec": {
   "display_name": "Python 3 (ipykernel)",
   "language": "python",
   "name": "python3"
  },
  "language_info": {
   "codemirror_mode": {
    "name": "ipython",
    "version": 3
   },
   "file_extension": ".py",
   "mimetype": "text/x-python",
   "name": "python",
   "nbconvert_exporter": "python",
   "pygments_lexer": "ipython3",
   "version": "3.9.7"
  }
 },
 "nbformat": 4,
 "nbformat_minor": 5
}
